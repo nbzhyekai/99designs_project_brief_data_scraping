{
 "cells": [
  {
   "cell_type": "markdown",
   "metadata": {},
   "source": [
    "# store information of a competition in one table: Competition\n",
    "\n",
    "<table>\n",
    "  <thead>\n",
    "    <tr>\n",
    "      <th>Datafield</th>\n",
    "      <th>Description</th>\n",
    "    </tr>\n",
    "  <tbody>\n",
    "    <tr>\n",
    "      <td>id</td>\n",
    "      <td>unique identifier for competition</td>\n",
    "    </tr>\n",
    "    <tr>\n",
    "      <td>url</td>\n",
    "      <td>competition webpage</td>\n",
    "    </tr>\n",
    "    <tr>\n",
    "      <td>name</td>\n",
    "      <td>competition name</td>\n",
    "    </tr>\n",
    "    <tr>\n",
    "      <td>start_time</td>\n",
    "      <td>start time of competition</td>\n",
    "    </tr>\n",
    "    <tr>\n",
    "      <td>seeker</td>\n",
    "      <td>competition host</td>\n",
    "    </tr>\n",
    "    <tr>\n",
    "      <td>prize</td>\n",
    "      <td>prize for winners</td>\n",
    "    </tr>\n",
    "    <tr>\n",
    "      <td>entries</td>\n",
    "      <td>{{entry_id: xx, user_id: xx, entry_url:xxx, time:xxx}, {entry_id: xx, user_id: xx, entry_url:xxx, time:xxx}, ...}</td>\n",
    "    </tr>\n",
    "    <tr>\n",
    "      <td>deleted entries</td>\n",
    "      <td>{{entry_id: xx, user_id: xx}, {entry_id: xx, user_id: xx}, ...}</td>\n",
    "    </tr>\n",
    "    <tr>\n",
    "      <td>winners</td>\n",
    "      <td>[entry_id, entry_id]</td>\n",
    "    </tr>\n",
    "\n",
    "  </tbody>\n",
    "</table>\n"
   ]
  },
  {
   "cell_type": "code",
   "execution_count": 1,
   "metadata": {},
   "outputs": [],
   "source": [
    "import requests\n",
    "from bs4 import BeautifulSoup\n",
    "import re\n",
    "import pandas as pd"
   ]
  },
  {
   "cell_type": "code",
   "execution_count": 2,
   "metadata": {},
   "outputs": [],
   "source": [
    "competition_url = \"https://99designs.hk/logo-design/contests/logo-design-wanted-pure-water-technology-63431\""
   ]
  },
  {
   "cell_type": "markdown",
   "metadata": {},
   "source": [
    "## 1. get competition information"
   ]
  },
  {
   "cell_type": "code",
   "execution_count": 3,
   "metadata": {},
   "outputs": [],
   "source": [
    "kv = {'user-agent': 'Mozilla/5.0'}\n",
    "r = requests.get(competition_url, headers=kv, timeout=30)\n",
    "r.raise_for_status()\n",
    "r.status_code\n",
    "r.encoding = r.apparent_encoding"
   ]
  },
  {
   "cell_type": "code",
   "execution_count": 4,
   "metadata": {},
   "outputs": [],
   "source": [
    "soup = BeautifulSoup(r.text, 'html.parser')"
   ]
  },
  {
   "cell_type": "code",
   "execution_count": 5,
   "metadata": {},
   "outputs": [
    {
     "data": {
      "text/plain": [
       "'New Logo Design wanted for Pure Water Technology'"
      ]
     },
     "execution_count": 5,
     "metadata": {},
     "output_type": "execute_result"
    }
   ],
   "source": [
    "## title\n",
    "result = soup.find(name='h1', attrs=\"heading heading--h1 heading--no-margin\")\n",
    "if result:\n",
    "    title = result.text\n",
    "else:\n",
    "    title = None\n",
    "\n",
    "title"
   ]
  },
  {
   "cell_type": "code",
   "execution_count": 6,
   "metadata": {},
   "outputs": [],
   "source": [
    "results = soup.find(name='div', attrs='inline-page')"
   ]
  },
  {
   "cell_type": "code",
   "execution_count": 7,
   "metadata": {},
   "outputs": [
    {
     "data": {
      "text/plain": [
       "[<p class=\"heading heading--size4 heading--no-margin\">About us</p>,\n",
       " <p class=\"heading heading--size4 heading--no-margin\">Logo types to explore</p>]"
      ]
     },
     "execution_count": 7,
     "metadata": {},
     "output_type": "execute_result"
    }
   ],
   "source": [
    "headers = results.findAll(\"p\", \"heading heading--size4 heading--no-margin\")\n",
    "headers"
   ]
  },
  {
   "cell_type": "markdown",
   "metadata": {},
   "source": [
    "## 2. get brief page"
   ]
  },
  {
   "cell_type": "code",
   "execution_count": 8,
   "metadata": {},
   "outputs": [],
   "source": [
    "from selenium import webdriver\n",
    "from selenium.webdriver.common.by import By\n"
   ]
  },
  {
   "cell_type": "code",
   "execution_count": 9,
   "metadata": {},
   "outputs": [],
   "source": [
    "PATH = \"C:\\Program Files (x86)\\chromedriver.exe\" "
   ]
  },
  {
   "cell_type": "code",
   "execution_count": 10,
   "metadata": {},
   "outputs": [
    {
     "name": "stderr",
     "output_type": "stream",
     "text": [
      "<ipython-input-10-4e21536312ca>:1: DeprecationWarning: executable_path has been deprecated, please pass in a Service object\n",
      "  driver = webdriver.Chrome(PATH)\n"
     ]
    }
   ],
   "source": [
    "driver = webdriver.Chrome(PATH)\n",
    "driver.get(competition_url + '/brief')"
   ]
  },
  {
   "cell_type": "code",
   "execution_count": 11,
   "metadata": {},
   "outputs": [],
   "source": [
    "background_information = driver.find_element(By.XPATH, '//div[@id=\"section-backgroundInformation\"]/div')\n",
    "name_to_incorporate = background_information.find_element(By.XPATH, '//div[@id=\"element-backgroundInformation-logoBusinessName\"]/div/div/div').text\n",
    "slogan_to_incorporate = background_information.find_element(By.XPATH, '//div[@id=\"element-backgroundInformation-slogan\"]/div/div/div/div').text\n",
    "description = background_information.find_element(By.XPATH, '//div[@id=\"element-backgroundInformation-targetAudience\"]/div/div/div').text\n",
    "industry = background_information.find_element(By.XPATH, '//div[@id=\"element-backgroundInformation-industry\"]/div/div/div').text\n",
    "\n"
   ]
  },
  {
   "cell_type": "code",
   "execution_count": 12,
   "metadata": {},
   "outputs": [],
   "source": [
    "visual_style = driver.find_element(By.XPATH, '//div[@id=\"section-visualStyle\"]/div')\n",
    "logo_types = driver.find_element(By.XPATH, '/html/body/div[1]/div[1]/div[3]/div/div/div[2]/div/div[1]/div/div/div/div/div[2]/div/div/div[1]/div/div/div/div').text\n",
    "logo_to_be_used = driver.find_element(By.XPATH, '/html/body/div[1]/div[1]/div[3]/div/div/div[2]/div/div[1]/div/div/div/div/div[2]/div/div/div[2]/div/div/div').text\n",
    "colors_to_explore = visual_style.find_element(By.XPATH, '//*[@id=\"element-visualStyle-colorPreferences\"]/div/div/div').text.split('\\n')\n",
    "other_color_requirements = visual_style.find_element(By.XPATH, '//div[@id=\"element-visualStyle-otherColorRequirements\"]/div/div/div').text\n",
    "style_attributes = []\n",
    "for i in range(7):\n",
    "    value = visual_style.find_element(By.XPATH, '//*[@id=\"element-visualStyle-styleAttributes\"]/div/div/div/div/div[' + str(i+1) + ']/div[2]/div/div').get_attribute(\"aria-valuenow\")\n",
    "    style_attributes.append(value)\n",
    "\n",
    "try: \n",
    "    design_inspiration = visual_style.find_element(By.XPATH, '//*[@id=\"element-visualStyle-designExamples\"]/div/div/div/div/div')\n",
    "    design_inspiration_count = len(design_inspiration.find_elements(By.CLASS_NAME, \"matrix__item\"))\n",
    "except: \n",
    "    design_inspiration_count = 0\n",
    "\n"
   ]
  },
  {
   "cell_type": "code",
   "execution_count": 13,
   "metadata": {},
   "outputs": [],
   "source": [
    "references = visual_style.find_element(By.XPATH, '//div[@id=\"section-references\"]')\n",
    "attachments = references.find_element(By.XPATH, '//*[@id=\"element-references-attachments\"]/div/div/div').text\n",
    "if attachments == 'No files':\n",
    "    attachments_count = 0\n",
    "else:\n",
    "    attachments_count = len(references.find_elements(By.CLASS_NAME, \"matrix__item\"))\n",
    "other_notes = references.find_element(By.XPATH, '//*[@id=\"element-references-notes\"]/div/div/div').text"
   ]
  },
  {
   "cell_type": "code",
   "execution_count": 14,
   "metadata": {},
   "outputs": [],
   "source": [
    "driver.close()"
   ]
  },
  {
   "cell_type": "markdown",
   "metadata": {},
   "source": [
    "## 3. get participants and entry info"
   ]
  },
  {
   "cell_type": "code",
   "execution_count": 15,
   "metadata": {},
   "outputs": [],
   "source": [
    "kv = {'user-agent': 'Mozilla/5.0'}\n",
    "url = competition_url + \"/entries\"\n",
    "\n",
    "r = requests.get(url, headers=kv, timeout=30)\n",
    "r.raise_for_status()\n",
    "r.status_code\n",
    "r.encoding = r.apparent_encoding"
   ]
  },
  {
   "cell_type": "code",
   "execution_count": 16,
   "metadata": {},
   "outputs": [],
   "source": [
    "soup = BeautifulSoup(r.text, 'html.parser')"
   ]
  },
  {
   "cell_type": "code",
   "execution_count": 17,
   "metadata": {},
   "outputs": [
    {
     "name": "stdout",
     "output_type": "stream",
     "text": [
      "Tue, 25 Jan 2011 06:07:02 +0000\n"
     ]
    }
   ],
   "source": [
    "## competition start date\n",
    "text = str(soup.find(name='div', attrs=\"contest-header__price\"))\n",
    "start_time = re.search('\"startDate\": .+,', text).group(0).replace('\"startDate\": \"', '')[:-2]\n",
    "print(start_time)"
   ]
  },
  {
   "cell_type": "markdown",
   "metadata": {},
   "source": [
    "### winner id and entry id"
   ]
  },
  {
   "cell_type": "code",
   "execution_count": 18,
   "metadata": {},
   "outputs": [],
   "source": [
    "def make_soup(competition_url, page_number, active=True):\n",
    "\n",
    "    kv = {'user-agent': 'Mozilla/5.0'}\n",
    "    if active:\n",
    "        url = competition_url + \"/entries?filter=active&page=\" + str(page_number)\n",
    "    else: \n",
    "        url = competition_url + \"/entries?filter=non_active&page=\" + str(page_number)\n",
    "    print(url)\n",
    "\n",
    "    r = requests.get(url, headers=kv, timeout=30)\n",
    "    r.raise_for_status()\n",
    "    r.status_code\n",
    "    r.encoding = r.apparent_encoding\n",
    "    soup = BeautifulSoup(r.text, 'html.parser')\n",
    "    return soup"
   ]
  },
  {
   "cell_type": "code",
   "execution_count": 19,
   "metadata": {},
   "outputs": [],
   "source": [
    "def get_winner_info(soup):\n",
    "\n",
    "    results = soup.findAll(name='div', attrs='entry-matrix__item matrix__item entry-winners')\n",
    "        \n",
    "    winner_entry_ids = []\n",
    "    for result in results:\n",
    "        winner_entry = result.find(name='div', attrs=\"entry entry--linked entry--zoom-linked\")\n",
    "        if winner_entry:\n",
    "            winner_entry_ids.append(winner_entry[\"id\"])\n",
    "            continue\n",
    "        winner_entry = result.find(name='div', attrs=\"entry\") # case if winner entry is deleted\n",
    "        if winner_entry:\n",
    "            winner_entry_ids.append(winner_entry[\"id\"])\n",
    "            continue\n",
    "    return winner_entry_ids\n"
   ]
  },
  {
   "cell_type": "code",
   "execution_count": 20,
   "metadata": {},
   "outputs": [
    {
     "name": "stdout",
     "output_type": "stream",
     "text": [
      "https://99designs.hk/logo-design/contests/logo-design-wanted-pure-water-technology-63431/entries?filter=active&page=1\n"
     ]
    },
    {
     "data": {
      "text/plain": [
       "['entry-61']"
      ]
     },
     "execution_count": 20,
     "metadata": {},
     "output_type": "execute_result"
    }
   ],
   "source": [
    "page_number = 1\n",
    "soup = make_soup(competition_url, page_number)\n",
    "winner_entry_ids = get_winner_info(soup) \n",
    "winner_entry_ids"
   ]
  },
  {
   "cell_type": "code",
   "execution_count": 21,
   "metadata": {},
   "outputs": [
    {
     "data": {
      "text/plain": [
       "'Bridgett'"
      ]
     },
     "execution_count": 21,
     "metadata": {},
     "output_type": "execute_result"
    }
   ],
   "source": [
    "seeker = soup.find(name='span', attrs=\"display-name\").text\n",
    "seeker"
   ]
  },
  {
   "cell_type": "code",
   "execution_count": 22,
   "metadata": {},
   "outputs": [
    {
     "data": {
      "text/plain": [
       "'            All (17)                    Unrated (6)                    1–2 stars (6)                    3–5 stars (5)                    Declined and withdrawn (70)        '"
      ]
     },
     "execution_count": 22,
     "metadata": {},
     "output_type": "execute_result"
    }
   ],
   "source": [
    "entry_summary = soup.find(name='select', attrs=\"styled-select__select\")\n",
    "entry_summary = entry_summary.text.replace('\\n', \"\")\n",
    "entry_summary"
   ]
  },
  {
   "cell_type": "code",
   "execution_count": 23,
   "metadata": {},
   "outputs": [
    {
     "name": "stdout",
     "output_type": "stream",
     "text": [
      "17 70\n"
     ]
    }
   ],
   "source": [
    "entry_count = int(re.search('All \\(\\d+\\)', entry_summary).group(0)[5: -1])\n",
    "deleted_entry_count = re.search('Declined and withdrawn \\(\\d+\\)', entry_summary).group(0)[24:-1]\n",
    "print(entry_count, deleted_entry_count)"
   ]
  },
  {
   "cell_type": "code",
   "execution_count": 24,
   "metadata": {},
   "outputs": [],
   "source": [
    "def get_participant_and_entry_info(soup):\n",
    "\n",
    "    entry_matrix = soup.findAll(name='div', attrs='entry-matrix__item matrix__item')\n",
    "    for entry in entry_matrix:\n",
    "        result = entry.find(name='div', attrs='entry entry--linked entry--zoom-linked')\n",
    "        try:\n",
    "            participants_user_ids.append(result[\"data-user-id\"])\n",
    "            participants_entry_ids.append(result[\"id\"])\n",
    "            participants_entry_image_urls.append(result.find(name='a')[\"href\"])\n",
    "        except:\n",
    "            pass"
   ]
  },
  {
   "cell_type": "code",
   "execution_count": 25,
   "metadata": {},
   "outputs": [],
   "source": [
    "def get_time(soup):\n",
    "    ## get time\n",
    "    # text = str(soup.find(name='div', attrs='entry-pane__results').contents)\n",
    "    text = str(soup.find(name='div', attrs='entry-pane__results'))\n",
    "    time = re.findall('\"timeCreatedString\":\".{20,30}\"', text)\n",
    "    if time:\n",
    "        time = list(map(lambda x: x.replace('\"timeCreatedString\":\"', '').replace('\",\"', \"\"), time))\n",
    "        return time\n",
    "\n",
    "    time = re.findall('timeCreatedString\\&quot\\;\\:&quot;.{20,30}\\&quot\\;', text)\n",
    "    if time:\n",
    "        time = list(map(lambda x: x[30: -6], time))\n",
    "        return time\n",
    "\n",
    "        \n",
    "    "
   ]
  },
  {
   "cell_type": "code",
   "execution_count": 26,
   "metadata": {},
   "outputs": [],
   "source": [
    "def get_prize(soup):\n",
    "    ## get time\n",
    "    text = str(soup.find(name='div', attrs='contest-header contest-header--with-breadcrumbs').contents)\n",
    "    prize = re.search('\"prizeMoney\": \".{2,10}\"', text).group(0)\n",
    "    prize = prize.replace('\"prizeMoney\": \"', \"\").replace('\"', \"\")\n",
    "    return prize\n"
   ]
  },
  {
   "cell_type": "code",
   "execution_count": null,
   "metadata": {},
   "outputs": [],
   "source": []
  },
  {
   "cell_type": "code",
   "execution_count": 27,
   "metadata": {},
   "outputs": [
    {
     "name": "stdout",
     "output_type": "stream",
     "text": [
      "1\n",
      "https://99designs.hk/logo-design/contests/logo-design-wanted-pure-water-technology-63431/entries?filter=active&page=1\n"
     ]
    }
   ],
   "source": [
    "participants_user_ids = []\n",
    "participants_entry_ids = []\n",
    "participants_entry_image_urls = []\n",
    "participants_submission_time = []\n",
    "page_number = 1\n",
    "\n",
    "\n",
    "\n",
    "while True:\n",
    "    print(page_number)\n",
    "    if page_number == 1:\n",
    "        soup = make_soup(competition_url, page_number)\n",
    "        prize = get_prize(soup)\n",
    "        winner_entry_ids = get_winner_info(soup)\n",
    "        get_participant_and_entry_info(soup)\n",
    "        time = get_time(soup)\n",
    "        # print(time)\n",
    "        participants_submission_time += time\n",
    "        if len(time) < 36:\n",
    "            break\n",
    "    else:\n",
    "        soup = make_soup(competition_url, page_number)\n",
    "        get_participant_and_entry_info(soup)\n",
    "        time = get_time(soup)\n",
    "        # print(time)\n",
    "        participants_submission_time += time\n",
    "        if len(time) < 36:\n",
    "            break\n",
    "\n",
    "    # print(participants_user_ids)\n",
    "    # print(participants_entry_ids)\n",
    "    # print(participants_entry_image_urls)\n",
    "\n",
    "    page_number += 1"
   ]
  },
  {
   "cell_type": "code",
   "execution_count": 28,
   "metadata": {},
   "outputs": [
    {
     "data": {
      "text/plain": [
       "(17,\n",
       " ['2011-01-27T16:50:08+00:00',\n",
       "  '2011-01-26T00:17:52+00:00',\n",
       "  '2011-01-26T06:32:28+00:00',\n",
       "  '2011-01-26T06:28:10+00:00',\n",
       "  '2011-01-25T22:14:42+00:00'])"
      ]
     },
     "execution_count": 28,
     "metadata": {},
     "output_type": "execute_result"
    }
   ],
   "source": [
    "len(participants_submission_time), participants_submission_time[:5]"
   ]
  },
  {
   "cell_type": "code",
   "execution_count": 29,
   "metadata": {},
   "outputs": [],
   "source": [
    "entries = []\n",
    "for entry_id, participant_id, time, url in zip(participants_entry_ids, \n",
    "                                                participants_user_ids, \n",
    "                                               participants_submission_time, \n",
    "                                               participants_entry_image_urls):\n",
    "    entries.append({'entry_id': entry_id, 'participant_id': participant_id, 'time': time, 'url':url})\n"
   ]
  },
  {
   "cell_type": "code",
   "execution_count": 30,
   "metadata": {},
   "outputs": [
    {
     "data": {
      "text/plain": [
       "[{'entry_id': 'entry-61',\n",
       "  'participant_id': '289457',\n",
       "  'time': '2011-01-27T16:50:08+00:00',\n",
       "  'url': '/logo-design/contests/logo-design-wanted-pure-water-technology-63431/entries/61'},\n",
       " {'entry_id': 'entry-19',\n",
       "  'participant_id': '330615',\n",
       "  'time': '2011-01-26T00:17:52+00:00',\n",
       "  'url': '/logo-design/contests/logo-design-wanted-pure-water-technology-63431/entries/19'},\n",
       " {'entry_id': 'entry-24',\n",
       "  'participant_id': '330615',\n",
       "  'time': '2011-01-26T06:32:28+00:00',\n",
       "  'url': '/logo-design/contests/logo-design-wanted-pure-water-technology-63431/entries/24'},\n",
       " {'entry_id': 'entry-23',\n",
       "  'participant_id': '330615',\n",
       "  'time': '2011-01-26T06:28:10+00:00',\n",
       "  'url': '/logo-design/contests/logo-design-wanted-pure-water-technology-63431/entries/23'},\n",
       " {'entry_id': 'entry-18',\n",
       "  'participant_id': '383924',\n",
       "  'time': '2011-01-25T22:14:42+00:00',\n",
       "  'url': '/logo-design/contests/logo-design-wanted-pure-water-technology-63431/entries/18'}]"
      ]
     },
     "execution_count": 30,
     "metadata": {},
     "output_type": "execute_result"
    }
   ],
   "source": [
    "entries[:5]"
   ]
  },
  {
   "cell_type": "code",
   "execution_count": 31,
   "metadata": {},
   "outputs": [
    {
     "data": {
      "text/plain": [
       "[{'entry_id': 'entry-86',\n",
       "  'participant_id': '465474',\n",
       "  'time': '2011-01-28T06:04:18+00:00',\n",
       "  'url': '/logo-design/contests/logo-design-wanted-pure-water-technology-63431/entries/86'},\n",
       " {'entry_id': 'entry-80',\n",
       "  'participant_id': '410261',\n",
       "  'time': '2011-01-28T03:13:45+00:00',\n",
       "  'url': '/logo-design/contests/logo-design-wanted-pure-water-technology-63431/entries/80'},\n",
       " {'entry_id': 'entry-79',\n",
       "  'participant_id': '410261',\n",
       "  'time': '2011-01-28T03:04:36+00:00',\n",
       "  'url': '/logo-design/contests/logo-design-wanted-pure-water-technology-63431/entries/79'},\n",
       " {'entry_id': 'entry-60',\n",
       "  'participant_id': '383924',\n",
       "  'time': '2011-01-27T08:21:07+00:00',\n",
       "  'url': '/logo-design/contests/logo-design-wanted-pure-water-technology-63431/entries/60'},\n",
       " {'entry_id': 'entry-29',\n",
       "  'participant_id': '383924',\n",
       "  'time': '2011-01-26T08:11:47+00:00',\n",
       "  'url': '/logo-design/contests/logo-design-wanted-pure-water-technology-63431/entries/29'}]"
      ]
     },
     "execution_count": 31,
     "metadata": {},
     "output_type": "execute_result"
    }
   ],
   "source": [
    "entries[-5:]"
   ]
  },
  {
   "cell_type": "code",
   "execution_count": null,
   "metadata": {},
   "outputs": [],
   "source": []
  },
  {
   "cell_type": "markdown",
   "metadata": {},
   "source": [
    "## 3. get participants and entry info for deleted entries"
   ]
  },
  {
   "cell_type": "code",
   "execution_count": 32,
   "metadata": {},
   "outputs": [],
   "source": [
    "def get_time_and_status_for_deleted_entry(entry_id):\n",
    "    entry_id = entry_id.split('-')[-1]\n",
    "    entry_url = competition_url + '/entries/' + entry_id\n",
    "    \n",
    "    ## make soup for entry page\n",
    "    kv = {'user-agent': 'Mozilla/5.0'}\n",
    "    r = requests.get(entry_url, headers=kv, timeout=30)\n",
    "    r.raise_for_status()\n",
    "    r.status_code\n",
    "    r.encoding = r.apparent_encoding\n",
    "    soup = BeautifulSoup(r.text, 'html.parser')\n",
    "\n",
    "    ## \n",
    "    script = str(soup.find('script', id=\"standalone-design-details-app-data\"))\n",
    "    time = re.search('\"timeCreatedString\":\".{20,30}\"', script).group(0)\n",
    "    time = time.replace('\"timeCreatedString\":\"', '').replace('\",\"', \"\")\n",
    "\n",
    "    status = 'deleted'\n",
    "    if re.search('\"status\":\"withdrawn\"', script):\n",
    "        status = 'withdrawn'\n",
    "    elif re.search('\"status\":\"eliminated\"', script):\n",
    "        status = 'declined'\n",
    "    \n",
    "\n",
    "    return time, status\n",
    "    \n"
   ]
  },
  {
   "cell_type": "code",
   "execution_count": 33,
   "metadata": {},
   "outputs": [],
   "source": [
    "def get_participant_and_entry_info_deleted_page(soup):\n",
    "\n",
    "    user_ids = []\n",
    "    entry_ids = []\n",
    "    status = []\n",
    "    submission_time = []\n",
    "    deleted_count = 0\n",
    "    withdrawn_count = 0\n",
    "    declined_count = 0\n",
    "\n",
    "    entry_matrix = soup.findAll(name='div', attrs='entry-matrix__item matrix__item')\n",
    "    \n",
    "    for entry in entry_matrix:\n",
    "        result = entry.find(name='div', attrs='entry')\n",
    "    # print(result)\n",
    "        try:\n",
    "            user_ids.append(result[\"data-user-id\"])\n",
    "            entry_ids.append(result[\"id\"])\n",
    "            time, s = get_time_and_status_for_deleted_entry(result[\"id\"])\n",
    "            submission_time.append(time)\n",
    "            status.append(s)\n",
    "\n",
    "            if s == 'deleted':\n",
    "                deleted_count += 1\n",
    "            elif s == 'withdrawn':\n",
    "                withdrawn_count += 1  \n",
    "            elif s == 'declined':\n",
    "                declined_count += 1\n",
    "                \n",
    "\n",
    "        except:\n",
    "            pass\n",
    "\n",
    "    return user_ids, entry_ids, status, submission_time, deleted_count, withdrawn_count, declined_count"
   ]
  },
  {
   "cell_type": "code",
   "execution_count": 34,
   "metadata": {},
   "outputs": [
    {
     "name": "stdout",
     "output_type": "stream",
     "text": [
      "1\n",
      "https://99designs.hk/logo-design/contests/logo-design-wanted-pure-water-technology-63431/entries?filter=non_active&page=1\n",
      "2\n",
      "https://99designs.hk/logo-design/contests/logo-design-wanted-pure-water-technology-63431/entries?filter=non_active&page=2\n"
     ]
    }
   ],
   "source": [
    "deleted_participants_user_ids = []\n",
    "deleted_participants_entry_ids = []\n",
    "status_all = []\n",
    "submission_time_all = []\n",
    "total_deleted_count = 0\n",
    "total_withdrawn_count = 0\n",
    "total_declined_count = 0\n",
    "\n",
    "page_number = 1\n",
    "winner_number = len(winner_entry_ids)\n",
    "\n",
    "\n",
    "while True:\n",
    "    print(page_number)\n",
    "    if page_number == 1:\n",
    "        soup = make_soup(competition_url, page_number, active=False)\n",
    "        winner_entry_ids = get_winner_info(soup)\n",
    "        user_ids, entry_ids, status, submission_time, deleted_count, withdrawn_count, declined_count = get_participant_and_entry_info_deleted_page(soup)\n",
    "        deleted_participants_user_ids += user_ids\n",
    "        deleted_participants_entry_ids += entry_ids\n",
    "        status_all += status\n",
    "        submission_time_all += submission_time\n",
    "        total_deleted_count += deleted_count\n",
    "        total_withdrawn_count += withdrawn_count\n",
    "        total_declined_count += declined_count\n",
    "        if len(user_ids) < 36:\n",
    "            break\n",
    "    else:\n",
    "        soup = make_soup(competition_url, page_number, active=False)\n",
    "        user_ids, entry_ids, status, submission_time, deleted_count, withdrawn_count, declined_count = get_participant_and_entry_info_deleted_page(soup)\n",
    "        deleted_participants_user_ids += user_ids\n",
    "        deleted_participants_entry_ids += entry_ids\n",
    "        status_all += status\n",
    "        submission_time_all += submission_time\n",
    "        total_deleted_count += deleted_count\n",
    "        total_withdrawn_count += withdrawn_count\n",
    "        total_declined_count += declined_count\n",
    "        if len(user_ids) < 36:\n",
    "            break\n",
    "\n",
    "    page_number += 1"
   ]
  },
  {
   "cell_type": "code",
   "execution_count": 35,
   "metadata": {},
   "outputs": [
    {
     "name": "stdout",
     "output_type": "stream",
     "text": [
      "['271748', '427216', '493504', '493504', '493504', '464165', '464165', '427216', '427216', '427216', '427216', '493504', '464165', '419314', '419314', '419314', '464165', '354745', '330145', '330145', '427216', '476599', '354745', '271748', '363921', '363921', '317749', '502166', '423344', '427216', '427216', '427216', '495388', '495388', '495388', '495388', '495388', '495388', '495388', '324758', '271748', '271748', '271748', '289457', '289457', '493504', '427216', '427216', '427216', '467553', '467553', '248472', '271748', '271748', '509817', '493504', '271748', '271748', '427216', '427216', '427216', '464165', '493504', '491910', '427216', '331417', '330145', '330145', '330145', '330145']\n",
      "['entry-48', 'entry-43', 'entry-41', 'entry-39', 'entry-37', 'entry-32', 'entry-30', 'entry-27', 'entry-26', 'entry-22', 'entry-16', 'entry-14', 'entry-13', 'entry-36', 'entry-35', 'entry-34', 'entry-31', 'entry-10', 'entry-21', 'entry-20', 'entry-17', 'entry-12', 'entry-9', 'entry-85', 'entry-84', 'entry-83', 'entry-82', 'entry-81', 'entry-78', 'entry-77', 'entry-76', 'entry-75', 'entry-74', 'entry-73', 'entry-72', 'entry-71', 'entry-70', 'entry-69', 'entry-68', 'entry-67', 'entry-66', 'entry-65', 'entry-64', 'entry-63', 'entry-62', 'entry-59', 'entry-58', 'entry-57', 'entry-56', 'entry-55', 'entry-54', 'entry-53', 'entry-52', 'entry-51', 'entry-50', 'entry-49', 'entry-47', 'entry-46', 'entry-45', 'entry-44', 'entry-42', 'entry-40', 'entry-38', 'entry-28', 'entry-25', 'entry-15', 'entry-6', 'entry-5', 'entry-4', 'entry-3']\n"
     ]
    }
   ],
   "source": [
    "print(deleted_participants_user_ids)\n",
    "print(deleted_participants_entry_ids)"
   ]
  },
  {
   "cell_type": "code",
   "execution_count": 36,
   "metadata": {},
   "outputs": [],
   "source": [
    "deleted_entries = []\n",
    "for entry_id, participant_id, status, submission_time in zip(deleted_participants_entry_ids, \n",
    "                                    deleted_participants_user_ids, status_all, submission_time_all):\n",
    "    deleted_entries.append({'entry_id': entry_id, 'participant_id': participant_id, 'status': status, 'time': submission_time})"
   ]
  },
  {
   "cell_type": "markdown",
   "metadata": {},
   "source": [
    "## output to file"
   ]
  },
  {
   "cell_type": "code",
   "execution_count": 37,
   "metadata": {},
   "outputs": [],
   "source": [
    "df_competition_description = pd.DataFrame({'title': [title], 'url': competition_url, 'seeker': seeker, 'start_time': start_time,\n",
    "                                            'name_to_incorporate': [name_to_incorporate], 'slogan_to_incorporate': [slogan_to_incorporate], \n",
    "                                            'description': [description], 'industry': [industry],  \n",
    "                                            'logo_types': [logo_types],\n",
    "                                            'logo_to_be_used': [logo_to_be_used],\n",
    "                                            'colors_to_explore': [colors_to_explore], \n",
    "                                            'other_color_requirements': [other_color_requirements], \n",
    "                                            'style_attributes': [style_attributes], \n",
    "                                            'design_inspiration_count': [design_inspiration_count],\n",
    "                                            'attachments_count': [attachments_count], \n",
    "                                            'other_notes': [other_notes],\n",
    "                                            'entry_count': entry_count, 'deleted_entry_count': deleted_entry_count,\n",
    "                                            'deleted': total_deleted_count, 'withdrawn': total_withdrawn_count, \n",
    "                                            'declined': total_declined_count, \n",
    "                                            'prize': prize, 'entries': [entries],\n",
    "                                            'deleted_entries': [deleted_entries], 'winners': [winner_entry_ids]})"
   ]
  },
  {
   "cell_type": "code",
   "execution_count": 38,
   "metadata": {},
   "outputs": [],
   "source": [
    "competition_name = competition_url.split(\"/\")[-1]\n",
    "df_competition_description.to_csv('data_20220301/' + competition_name+'.csv', index=False)"
   ]
  },
  {
   "cell_type": "code",
   "execution_count": null,
   "metadata": {},
   "outputs": [],
   "source": []
  }
 ],
 "metadata": {
  "interpreter": {
   "hash": "5af03e6f6884cdcbf495aa98cbd8d63d5d0ed05506dbd026ba0a4981213ae30b"
  },
  "kernelspec": {
   "display_name": "Python 3",
   "language": "python",
   "name": "python3"
  },
  "language_info": {
   "codemirror_mode": {
    "name": "ipython",
    "version": 3
   },
   "file_extension": ".py",
   "mimetype": "text/x-python",
   "name": "python",
   "nbconvert_exporter": "python",
   "pygments_lexer": "ipython3",
   "version": "3.8.8"
  }
 },
 "nbformat": 4,
 "nbformat_minor": 2
}
