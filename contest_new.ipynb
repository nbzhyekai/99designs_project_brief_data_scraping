{
 "cells": [
  {
   "cell_type": "markdown",
   "metadata": {},
   "source": [
    "# store information of a competition in one table: Competition\n",
    "\n",
    "<table>\n",
    "  <thead>\n",
    "    <tr>\n",
    "      <th>Datafield</th>\n",
    "      <th>Description</th>\n",
    "    </tr>\n",
    "  <tbody>\n",
    "    <tr>\n",
    "      <td>id</td>\n",
    "      <td>unique identifier for competition</td>\n",
    "    </tr>\n",
    "    <tr>\n",
    "      <td>url</td>\n",
    "      <td>competition webpage</td>\n",
    "    </tr>\n",
    "    <tr>\n",
    "      <td>name</td>\n",
    "      <td>competition name</td>\n",
    "    </tr>\n",
    "    <tr>\n",
    "      <td>start_time</td>\n",
    "      <td>start time of competition</td>\n",
    "    </tr>\n",
    "    <tr>\n",
    "      <td>seeker</td>\n",
    "      <td>competition host</td>\n",
    "    </tr>\n",
    "    <tr>\n",
    "      <td>prize</td>\n",
    "      <td>prize for winners</td>\n",
    "    </tr>\n",
    "    <tr>\n",
    "      <td>entries</td>\n",
    "      <td>{{entry_id: xx, user_id: xx, entry_url:xxx, time:xxx}, {entry_id: xx, user_id: xx, entry_url:xxx, time:xxx}, ...}</td>\n",
    "    </tr>\n",
    "    <tr>\n",
    "      <td>deleted entries</td>\n",
    "      <td>{{entry_id: xx, user_id: xx}, {entry_id: xx, user_id: xx}, ...}</td>\n",
    "    </tr>\n",
    "    <tr>\n",
    "      <td>winners</td>\n",
    "      <td>[entry_id, entry_id]</td>\n",
    "    </tr>\n",
    "\n",
    "  </tbody>\n",
    "</table>\n"
   ]
  },
  {
   "cell_type": "code",
   "execution_count": 1,
   "metadata": {},
   "outputs": [],
   "source": [
    "import requests\n",
    "from bs4 import BeautifulSoup\n",
    "import re\n",
    "import pandas as pd"
   ]
  },
  {
   "cell_type": "code",
   "execution_count": 2,
   "metadata": {},
   "outputs": [],
   "source": [
    "# competition_url = \"https://99designs.hk/logo-design/contests/logo-design-wanted-pure-water-technology-63431\"\n",
    "competition_url = \"https://99designs.hk/logo-design/contests/logo-design-appointmentpost-63470\""
   ]
  },
  {
   "cell_type": "markdown",
   "metadata": {},
   "source": [
    "## 1. get competition information"
   ]
  },
  {
   "cell_type": "code",
   "execution_count": 3,
   "metadata": {},
   "outputs": [],
   "source": [
    "kv = {'user-agent': 'Mozilla/5.0'}\n",
    "r = requests.get(competition_url, headers=kv, timeout=30)\n",
    "r.raise_for_status()\n",
    "r.status_code\n",
    "r.encoding = r.apparent_encoding"
   ]
  },
  {
   "cell_type": "code",
   "execution_count": 4,
   "metadata": {},
   "outputs": [],
   "source": [
    "soup = BeautifulSoup(r.text, 'html.parser')"
   ]
  },
  {
   "cell_type": "code",
   "execution_count": 5,
   "metadata": {},
   "outputs": [
    {
     "data": {
      "text/plain": [
       "'Logo Design for AppointmentPost.com'"
      ]
     },
     "execution_count": 5,
     "metadata": {},
     "output_type": "execute_result"
    }
   ],
   "source": [
    "## title\n",
    "result = soup.find(name='h1', attrs=\"heading heading--h1 heading--no-margin\")\n",
    "if result:\n",
    "    title = result.text\n",
    "else:\n",
    "    title = None\n",
    "\n",
    "title"
   ]
  },
  {
   "cell_type": "code",
   "execution_count": 6,
   "metadata": {},
   "outputs": [],
   "source": [
    "results = soup.find(name='div', attrs='inline-page')"
   ]
  },
  {
   "cell_type": "code",
   "execution_count": 7,
   "metadata": {},
   "outputs": [
    {
     "data": {
      "text/plain": [
       "[<p class=\"heading heading--size4 heading--no-margin\">About us</p>,\n",
       " <p class=\"heading heading--size4 heading--no-margin\">Logo types to explore</p>]"
      ]
     },
     "execution_count": 7,
     "metadata": {},
     "output_type": "execute_result"
    }
   ],
   "source": [
    "headers = results.findAll(\"p\", \"heading heading--size4 heading--no-margin\")\n",
    "headers"
   ]
  },
  {
   "cell_type": "markdown",
   "metadata": {},
   "source": [
    "## 2. get brief page"
   ]
  },
  {
   "cell_type": "code",
   "execution_count": 8,
   "metadata": {},
   "outputs": [],
   "source": [
    "from selenium import webdriver\n",
    "from selenium.webdriver.common.by import By\n"
   ]
  },
  {
   "cell_type": "code",
   "execution_count": 9,
   "metadata": {},
   "outputs": [],
   "source": [
    "PATH = \"C:\\Program Files (x86)\\chromedriver.exe\" "
   ]
  },
  {
   "cell_type": "code",
   "execution_count": 10,
   "metadata": {},
   "outputs": [
    {
     "name": "stderr",
     "output_type": "stream",
     "text": [
      "C:\\Users\\nbzhy\\AppData\\Local\\Temp\\ipykernel_14964\\2503443448.py:1: DeprecationWarning: executable_path has been deprecated, please pass in a Service object\n",
      "  driver = webdriver.Chrome(PATH)\n"
     ]
    }
   ],
   "source": [
    "driver = webdriver.Chrome(PATH)\n",
    "driver.get(competition_url + '/brief')"
   ]
  },
  {
   "cell_type": "code",
   "execution_count": 11,
   "metadata": {},
   "outputs": [],
   "source": [
    "background_information = driver.find_element(By.XPATH, '//div[@id=\"section-backgroundInformation\"]/div')\n",
    "name_to_incorporate = background_information.find_element(By.XPATH, '//div[@id=\"element-backgroundInformation-logoBusinessName\"]/div/div/div').text\n",
    "slogan_to_incorporate = background_information.find_element(By.XPATH, '//div[@id=\"element-backgroundInformation-slogan\"]/div/div/div/div').text\n",
    "description = background_information.find_element(By.XPATH, '//div[@id=\"element-backgroundInformation-targetAudience\"]/div/div/div').text\n",
    "industry = background_information.find_element(By.XPATH, '//div[@id=\"element-backgroundInformation-industry\"]/div/div/div').text\n",
    "\n"
   ]
  },
  {
   "cell_type": "code",
   "execution_count": 12,
   "metadata": {},
   "outputs": [],
   "source": [
    "visual_style = driver.find_element(By.XPATH, '//div[@id=\"section-visualStyle\"]/div')\n",
    "logo_types = driver.find_element(By.XPATH, '/html/body/div[1]/div[1]/div[3]/div/div/div[2]/div/div[1]/div/div/div/div/div[2]/div/div/div[1]/div/div/div/div').text\n",
    "logo_to_be_used = driver.find_element(By.XPATH, '/html/body/div[1]/div[1]/div[3]/div/div/div[2]/div/div[1]/div/div/div/div/div[2]/div/div/div[2]/div/div/div').text\n",
    "colors_to_explore = visual_style.find_element(By.XPATH, '//*[@id=\"element-visualStyle-colorPreferences\"]/div/div/div').text.split('\\n')\n",
    "other_color_requirements = visual_style.find_element(By.XPATH, '//div[@id=\"element-visualStyle-otherColorRequirements\"]/div/div/div').text\n",
    "style_attributes = []\n",
    "for i in range(7):\n",
    "    value = visual_style.find_element(By.XPATH, '//*[@id=\"element-visualStyle-styleAttributes\"]/div/div/div/div/div[' + str(i+1) + ']/div[2]/div/div').get_attribute(\"aria-valuenow\")\n",
    "    style_attributes.append(value)\n",
    "\n",
    "try: \n",
    "    design_inspiration = visual_style.find_element(By.XPATH, '//*[@id=\"element-visualStyle-designExamples\"]/div/div/div/div/div')\n",
    "    design_inspiration_count = len(design_inspiration.find_elements(By.CLASS_NAME, \"matrix__item\"))\n",
    "except: \n",
    "    design_inspiration_count = 0\n",
    "\n"
   ]
  },
  {
   "cell_type": "code",
   "execution_count": 13,
   "metadata": {},
   "outputs": [],
   "source": [
    "references = visual_style.find_element(By.XPATH, '//div[@id=\"section-references\"]')\n",
    "attachments = references.find_element(By.XPATH, '//*[@id=\"element-references-attachments\"]/div/div/div').text\n",
    "if attachments == 'No files':\n",
    "    attachments_count = 0\n",
    "else:\n",
    "    attachments_count = len(references.find_elements(By.CLASS_NAME, \"matrix__item\"))\n",
    "other_notes = references.find_element(By.XPATH, '//*[@id=\"element-references-notes\"]/div/div/div').text"
   ]
  },
  {
   "cell_type": "code",
   "execution_count": 14,
   "metadata": {},
   "outputs": [],
   "source": [
    "driver.close()"
   ]
  },
  {
   "cell_type": "markdown",
   "metadata": {},
   "source": [
    "## 3. get participants and entry info"
   ]
  },
  {
   "cell_type": "code",
   "execution_count": 15,
   "metadata": {},
   "outputs": [],
   "source": [
    "kv = {'user-agent': 'Mozilla/5.0'}\n",
    "url = competition_url + \"/entries\"\n",
    "\n",
    "r = requests.get(url, headers=kv, timeout=30)\n",
    "r.raise_for_status()\n",
    "r.status_code\n",
    "r.encoding = r.apparent_encoding"
   ]
  },
  {
   "cell_type": "code",
   "execution_count": 16,
   "metadata": {},
   "outputs": [],
   "source": [
    "soup = BeautifulSoup(r.text, 'html.parser')"
   ]
  },
  {
   "cell_type": "code",
   "execution_count": 17,
   "metadata": {},
   "outputs": [
    {
     "name": "stdout",
     "output_type": "stream",
     "text": [
      "Tue, 25 Jan 2011 16:46:09 +0000\n"
     ]
    }
   ],
   "source": [
    "## competition start date\n",
    "text = str(soup.find(name='div', attrs=\"contest-header__price\"))\n",
    "start_time = re.search('\"startDate\": .+,', text).group(0).replace('\"startDate\": \"', '')[:-2]\n",
    "print(start_time)"
   ]
  },
  {
   "cell_type": "markdown",
   "metadata": {},
   "source": [
    "### winner id and entry id"
   ]
  },
  {
   "cell_type": "code",
   "execution_count": 18,
   "metadata": {},
   "outputs": [],
   "source": [
    "def make_soup(competition_url, page_number, active=True):\n",
    "\n",
    "    kv = {'user-agent': 'Mozilla/5.0'}\n",
    "    if active:\n",
    "        url = competition_url + \"/entries?filter=active&page=\" + str(page_number)\n",
    "    else: \n",
    "        url = competition_url + \"/entries?filter=non_active&page=\" + str(page_number)\n",
    "    print(url)\n",
    "\n",
    "    r = requests.get(url, headers=kv, timeout=30)\n",
    "    r.raise_for_status()\n",
    "    r.status_code\n",
    "    r.encoding = r.apparent_encoding\n",
    "    soup = BeautifulSoup(r.text, 'html.parser')\n",
    "    return soup"
   ]
  },
  {
   "cell_type": "code",
   "execution_count": 19,
   "metadata": {},
   "outputs": [],
   "source": [
    "def get_winner_info(soup):\n",
    "\n",
    "    results = soup.findAll(name='div', attrs='entry-matrix__item matrix__item entry-winners')\n",
    "        \n",
    "    winner_entry_ids = []\n",
    "    for result in results:\n",
    "        winner_entry = result.find(name='div', attrs=\"entry entry--linked entry--zoom-linked\")\n",
    "        if winner_entry:\n",
    "            winner_entry_ids.append(winner_entry[\"id\"])\n",
    "            continue\n",
    "        winner_entry = result.find(name='div', attrs=\"entry\") # case if winner entry is deleted\n",
    "        if winner_entry:\n",
    "            winner_entry_ids.append(winner_entry[\"id\"])\n",
    "            continue\n",
    "    return winner_entry_ids\n"
   ]
  },
  {
   "cell_type": "code",
   "execution_count": 20,
   "metadata": {},
   "outputs": [
    {
     "name": "stdout",
     "output_type": "stream",
     "text": [
      "https://99designs.hk/logo-design/contests/logo-design-appointmentpost-63470/entries?filter=active&page=1\n"
     ]
    },
    {
     "data": {
      "text/plain": [
       "['entry-44']"
      ]
     },
     "execution_count": 20,
     "metadata": {},
     "output_type": "execute_result"
    }
   ],
   "source": [
    "page_number = 1\n",
    "soup = make_soup(competition_url, page_number)\n",
    "winner_entry_ids = get_winner_info(soup) \n",
    "winner_entry_ids"
   ]
  },
  {
   "cell_type": "code",
   "execution_count": 21,
   "metadata": {},
   "outputs": [
    {
     "data": {
      "text/plain": [
       "'Dan.lausted'"
      ]
     },
     "execution_count": 21,
     "metadata": {},
     "output_type": "execute_result"
    }
   ],
   "source": [
    "seeker = soup.find(name='span', attrs=\"display-name\").text\n",
    "seeker"
   ]
  },
  {
   "cell_type": "code",
   "execution_count": 22,
   "metadata": {},
   "outputs": [
    {
     "data": {
      "text/plain": [
       "'            All (12)                    Unrated (2)                    1–2 stars (4)                    3–5 stars (6)                    Declined and withdrawn (48)        '"
      ]
     },
     "execution_count": 22,
     "metadata": {},
     "output_type": "execute_result"
    }
   ],
   "source": [
    "entry_summary = soup.find(name='select', attrs=\"styled-select__select\")\n",
    "entry_summary = entry_summary.text.replace('\\n', \"\")\n",
    "entry_summary"
   ]
  },
  {
   "cell_type": "code",
   "execution_count": 23,
   "metadata": {},
   "outputs": [
    {
     "name": "stdout",
     "output_type": "stream",
     "text": [
      "12 48\n"
     ]
    }
   ],
   "source": [
    "entry_count = int(re.search('All \\(\\d+\\)', entry_summary).group(0)[5: -1])\n",
    "deleted_entry_count = re.search('Declined and withdrawn \\(\\d+\\)', entry_summary).group(0)[24:-1]\n",
    "print(entry_count, deleted_entry_count)"
   ]
  },
  {
   "cell_type": "code",
   "execution_count": 24,
   "metadata": {},
   "outputs": [],
   "source": [
    "def get_participant_and_entry_info(soup):\n",
    "\n",
    "    entry_matrix = soup.findAll(name='div', attrs='entry-matrix__item matrix__item')\n",
    "    for entry in entry_matrix:\n",
    "        result = entry.find(name='div', attrs='entry entry--linked entry--zoom-linked')\n",
    "        try:\n",
    "            participants_user_ids.append(result[\"data-user-id\"])\n",
    "            participants_entry_ids.append(result[\"id\"])\n",
    "            participants_entry_image_urls.append(result.find(name='a')[\"href\"])\n",
    "        except:\n",
    "            pass"
   ]
  },
  {
   "cell_type": "code",
   "execution_count": 25,
   "metadata": {},
   "outputs": [],
   "source": [
    "def get_time(soup):\n",
    "    ## get time\n",
    "    # text = str(soup.find(name='div', attrs='entry-pane__results').contents)\n",
    "    text = str(soup.find(name='div', attrs='entry-pane__results'))\n",
    "    time = re.findall('\"timeCreatedString\":\".{20,30}\"', text)\n",
    "    if time:\n",
    "        time = list(map(lambda x: x.replace('\"timeCreatedString\":\"', '').replace('\",\"', \"\"), time))\n",
    "        return time\n",
    "\n",
    "    time = re.findall('timeCreatedString\\&quot\\;\\:&quot;.{20,30}\\&quot\\;', text)\n",
    "    if time:\n",
    "        time = list(map(lambda x: x[30: -6], time))\n",
    "        return time\n",
    "\n",
    "        \n",
    "    "
   ]
  },
  {
   "cell_type": "code",
   "execution_count": 26,
   "metadata": {},
   "outputs": [],
   "source": [
    "def get_prize(soup):\n",
    "    ## get time\n",
    "    text = str(soup.find(name='div', attrs='contest-header contest-header--with-breadcrumbs').contents)\n",
    "    prize = re.search('\"prizeMoney\": \".{2,10}\"', text).group(0)\n",
    "    prize = prize.replace('\"prizeMoney\": \"', \"\").replace('\"', \"\")\n",
    "    return prize\n"
   ]
  },
  {
   "cell_type": "code",
   "execution_count": 27,
   "metadata": {},
   "outputs": [],
   "source": [
    "## get ratings\n"
   ]
  },
  {
   "cell_type": "code",
   "execution_count": 28,
   "metadata": {},
   "outputs": [],
   "source": [
    "def get_ratings(competition_url, page_number, active=True):\n",
    "    if active:\n",
    "        url = competition_url + \"/entries?filter=active&page=\" + str(page_number)\n",
    "    else: \n",
    "        url = competition_url + \"/entries?filter=non_active&page=\" + str(page_number)\n",
    "    \n",
    "    driver = webdriver.Chrome(PATH)\n",
    "    driver.get(url)\n",
    "    entry_information = driver.find_element(By.XPATH, '/html/body/div[1]/div[1]/div[3]/div/div/div[2]/div[5]/div[1]/div/div').get_attribute('data-design-collection')\n",
    "    ratings = re.findall(\"\\\"rating\\\":\\d|\\\"rating\\\":false\", entry_information)\n",
    "    ratings = list(map(lambda x: x.replace(\"\\\"rating\\\":\", \"\"), ratings))\n",
    "    driver.close()\n",
    "    return ratings"
   ]
  },
  {
   "cell_type": "code",
   "execution_count": 29,
   "metadata": {},
   "outputs": [
    {
     "name": "stdout",
     "output_type": "stream",
     "text": [
      "1\n",
      "https://99designs.hk/logo-design/contests/logo-design-appointmentpost-63470/entries?filter=active&page=1\n"
     ]
    },
    {
     "name": "stderr",
     "output_type": "stream",
     "text": [
      "C:\\Users\\nbzhy\\AppData\\Local\\Temp\\ipykernel_14964\\3334419750.py:7: DeprecationWarning: executable_path has been deprecated, please pass in a Service object\n",
      "  driver = webdriver.Chrome(PATH)\n"
     ]
    }
   ],
   "source": [
    "participants_user_ids = []\n",
    "participants_entry_ids = []\n",
    "participants_entry_image_urls = []\n",
    "participants_submission_time = []\n",
    "ratings = []\n",
    "page_number = 1\n",
    "\n",
    "\n",
    "\n",
    "while True:\n",
    "    print(page_number)\n",
    "    if page_number == 1:\n",
    "        soup = make_soup(competition_url, page_number)\n",
    "        prize = get_prize(soup)\n",
    "        winner_entry_ids = get_winner_info(soup)\n",
    "        get_participant_and_entry_info(soup)\n",
    "        rating = get_ratings(competition_url, page_number)\n",
    "        ratings += rating\n",
    "        time = get_time(soup)\n",
    "        # print(time)\n",
    "        participants_submission_time += time\n",
    "        if len(rating) < 36:\n",
    "            break\n",
    "    else:\n",
    "        soup = make_soup(competition_url, page_number)\n",
    "        get_participant_and_entry_info(soup)\n",
    "        # time = get_time(soup)\n",
    "        # print(time)\n",
    "        rating = get_ratings(competition_url, page_number)\n",
    "        ratings += rating\n",
    "        participants_submission_time += time\n",
    "        if len(rating) < 36:\n",
    "            break\n",
    "\n",
    "    # print(participants_user_ids)\n",
    "    # print(participants_entry_ids)\n",
    "    # print(participants_entry_image_urls)\n",
    "\n",
    "    page_number += 1"
   ]
  },
  {
   "cell_type": "code",
   "execution_count": 30,
   "metadata": {},
   "outputs": [
    {
     "data": {
      "text/plain": [
       "(12,\n",
       " ['2011-01-31T01:21:02+00:00',\n",
       "  '2011-01-31T00:54:05+00:00',\n",
       "  '2011-01-28T18:26:42+00:00',\n",
       "  '2011-01-28T18:29:00+00:00',\n",
       "  '2011-01-28T16:01:20+00:00'])"
      ]
     },
     "execution_count": 30,
     "metadata": {},
     "output_type": "execute_result"
    }
   ],
   "source": [
    "len(participants_submission_time), participants_submission_time[:5]"
   ]
  },
  {
   "cell_type": "code",
   "execution_count": 31,
   "metadata": {},
   "outputs": [],
   "source": [
    "entries = []\n",
    "for entry_id, participant_id, time, url, rating in zip(participants_entry_ids, \n",
    "                                                participants_user_ids, \n",
    "                                               participants_submission_time, \n",
    "                                               participants_entry_image_urls,\n",
    "                                               ratings):\n",
    "    entries.append({'entry_id': entry_id, 'participant_id': participant_id, 'time': time, 'url':url, 'rating':rating})\n"
   ]
  },
  {
   "cell_type": "code",
   "execution_count": 32,
   "metadata": {},
   "outputs": [
    {
     "data": {
      "text/plain": [
       "[{'entry_id': 'entry-45',\n",
       "  'participant_id': '266667',\n",
       "  'time': '2011-01-31T01:21:02+00:00',\n",
       "  'url': '/logo-design/contests/logo-design-appointmentpost-63470/entries/45',\n",
       "  'rating': '4'},\n",
       " {'entry_id': 'entry-44',\n",
       "  'participant_id': '266667',\n",
       "  'time': '2011-01-31T00:54:05+00:00',\n",
       "  'url': '/logo-design/contests/logo-design-appointmentpost-63470/entries/44',\n",
       "  'rating': '4'},\n",
       " {'entry_id': 'entry-35',\n",
       "  'participant_id': '266667',\n",
       "  'time': '2011-01-28T18:26:42+00:00',\n",
       "  'url': '/logo-design/contests/logo-design-appointmentpost-63470/entries/35',\n",
       "  'rating': '4'},\n",
       " {'entry_id': 'entry-36',\n",
       "  'participant_id': '266667',\n",
       "  'time': '2011-01-28T18:29:00+00:00',\n",
       "  'url': '/logo-design/contests/logo-design-appointmentpost-63470/entries/36',\n",
       "  'rating': '3'},\n",
       " {'entry_id': 'entry-34',\n",
       "  'participant_id': '266667',\n",
       "  'time': '2011-01-28T16:01:20+00:00',\n",
       "  'url': '/logo-design/contests/logo-design-appointmentpost-63470/entries/34',\n",
       "  'rating': '3'}]"
      ]
     },
     "execution_count": 32,
     "metadata": {},
     "output_type": "execute_result"
    }
   ],
   "source": [
    "entries[:5]"
   ]
  },
  {
   "cell_type": "code",
   "execution_count": 33,
   "metadata": {},
   "outputs": [
    {
     "data": {
      "text/plain": [
       "[{'entry_id': 'entry-46',\n",
       "  'participant_id': '482288',\n",
       "  'time': '2011-01-31T04:10:24+00:00',\n",
       "  'url': '/logo-design/contests/logo-design-appointmentpost-63470/entries/46',\n",
       "  'rating': '2'},\n",
       " {'entry_id': 'entry-48',\n",
       "  'participant_id': '289217',\n",
       "  'time': '2011-01-31T13:54:26+00:00',\n",
       "  'url': '/logo-design/contests/logo-design-appointmentpost-63470/entries/48',\n",
       "  'rating': '1'},\n",
       " {'entry_id': 'entry-30',\n",
       "  'participant_id': '266667',\n",
       "  'time': '2011-01-28T14:10:50+00:00',\n",
       "  'url': '/logo-design/contests/logo-design-appointmentpost-63470/entries/30',\n",
       "  'rating': '1'},\n",
       " {'entry_id': 'entry-60',\n",
       "  'participant_id': '511441',\n",
       "  'time': '2011-02-01T03:26:36+00:00',\n",
       "  'url': '/logo-design/contests/logo-design-appointmentpost-63470/entries/60',\n",
       "  'rating': 'false'},\n",
       " {'entry_id': 'entry-50',\n",
       "  'participant_id': '509620',\n",
       "  'time': '2011-01-31T20:59:48+00:00',\n",
       "  'url': '/logo-design/contests/logo-design-appointmentpost-63470/entries/50',\n",
       "  'rating': 'false'}]"
      ]
     },
     "execution_count": 33,
     "metadata": {},
     "output_type": "execute_result"
    }
   ],
   "source": [
    "entries[-5:]"
   ]
  },
  {
   "cell_type": "code",
   "execution_count": null,
   "metadata": {},
   "outputs": [],
   "source": []
  },
  {
   "cell_type": "markdown",
   "metadata": {},
   "source": [
    "## 3. get participants and entry info for deleted entries"
   ]
  },
  {
   "cell_type": "code",
   "execution_count": 35,
   "metadata": {},
   "outputs": [],
   "source": [
    "def get_time_and_status_for_deleted_entry(entry_id):\n",
    "    entry_id = entry_id.split('-')[-1]\n",
    "    entry_url = competition_url + '/entries/' + entry_id\n",
    "    \n",
    "    ## make soup for entry page\n",
    "    kv = {'user-agent': 'Mozilla/5.0'}\n",
    "    r = requests.get(entry_url, headers=kv, timeout=30)\n",
    "    r.raise_for_status()\n",
    "    r.status_code\n",
    "    r.encoding = r.apparent_encoding\n",
    "    soup = BeautifulSoup(r.text, 'html.parser')\n",
    "\n",
    "    ## \n",
    "    script = str(soup.find('script', id=\"standalone-design-details-app-data\"))\n",
    "    time = re.search('\"timeCreatedString\":\".{20,30}\"', script).group(0)\n",
    "    time = time.replace('\"timeCreatedString\":\"', '').replace('\",\"', \"\")\n",
    "\n",
    "    status = 'deleted'\n",
    "    if re.search('\"status\":\"withdrawn\"', script):\n",
    "        status = 'withdrawn'\n",
    "    elif re.search('\"status\":\"eliminated\"', script):\n",
    "        status = 'declined'\n",
    "    \n",
    "\n",
    "    return time, status\n",
    "    \n"
   ]
  },
  {
   "cell_type": "code",
   "execution_count": 36,
   "metadata": {},
   "outputs": [],
   "source": [
    "def get_participant_and_entry_info_deleted_page(soup):\n",
    "\n",
    "    user_ids = []\n",
    "    entry_ids = []\n",
    "    status = []\n",
    "    submission_time = []\n",
    "    ratings = []\n",
    "    deleted_count = 0\n",
    "    withdrawn_count = 0\n",
    "    declined_count = 0\n",
    "\n",
    "    entry_matrix = soup.findAll(name='div', attrs='entry-matrix__item matrix__item')\n",
    "    \n",
    "    for entry in entry_matrix:\n",
    "        result = entry.find(name='div', attrs='entry')\n",
    "    # print(result)\n",
    "        try:\n",
    "            user_ids.append(result[\"data-user-id\"])\n",
    "            entry_ids.append(result[\"id\"])\n",
    "            time, s = get_time_and_status_for_deleted_entry(result[\"id\"])\n",
    "            submission_time.append(time)\n",
    "            status.append(s)\n",
    "\n",
    "            if s == 'deleted':\n",
    "                deleted_count += 1\n",
    "            elif s == 'withdrawn':\n",
    "                withdrawn_count += 1  \n",
    "            elif s == 'declined':\n",
    "                declined_count += 1\n",
    "                \n",
    "\n",
    "        except:\n",
    "            pass\n",
    "\n",
    "    return user_ids, entry_ids, status, submission_time, deleted_count, withdrawn_count, declined_count"
   ]
  },
  {
   "cell_type": "code",
   "execution_count": 37,
   "metadata": {},
   "outputs": [
    {
     "name": "stdout",
     "output_type": "stream",
     "text": [
      "1\n",
      "https://99designs.hk/logo-design/contests/logo-design-appointmentpost-63470/entries?filter=non_active&page=1\n"
     ]
    },
    {
     "name": "stderr",
     "output_type": "stream",
     "text": [
      "C:\\Users\\nbzhy\\AppData\\Local\\Temp\\ipykernel_14964\\3334419750.py:7: DeprecationWarning: executable_path has been deprecated, please pass in a Service object\n",
      "  driver = webdriver.Chrome(PATH)\n"
     ]
    },
    {
     "name": "stdout",
     "output_type": "stream",
     "text": [
      "2\n",
      "https://99designs.hk/logo-design/contests/logo-design-appointmentpost-63470/entries?filter=non_active&page=2\n"
     ]
    }
   ],
   "source": [
    "deleted_participants_user_ids = []\n",
    "deleted_participants_entry_ids = []\n",
    "status_all = []\n",
    "submission_time_all = []\n",
    "total_deleted_count = 0\n",
    "total_withdrawn_count = 0\n",
    "total_declined_count = 0\n",
    "ratings = []\n",
    "\n",
    "page_number = 1\n",
    "winner_number = len(winner_entry_ids)\n",
    "\n",
    "\n",
    "while True:\n",
    "    print(page_number)\n",
    "    if page_number == 1:\n",
    "        soup = make_soup(competition_url, page_number, active=False)\n",
    "        winner_entry_ids = get_winner_info(soup)\n",
    "        user_ids, entry_ids, status, submission_time, deleted_count, withdrawn_count, declined_count = get_participant_and_entry_info_deleted_page(soup)\n",
    "        deleted_participants_user_ids += user_ids\n",
    "        deleted_participants_entry_ids += entry_ids\n",
    "        rating = get_ratings(competition_url, page_number, False)\n",
    "        ratings += rating\n",
    "        status_all += status\n",
    "        submission_time_all += submission_time\n",
    "        total_deleted_count += deleted_count\n",
    "        total_withdrawn_count += withdrawn_count\n",
    "        total_declined_count += declined_count\n",
    "        if len(user_ids) < 36:\n",
    "            break\n",
    "    else:\n",
    "        soup = make_soup(competition_url, page_number, active=False)\n",
    "        user_ids, entry_ids, status, submission_time, deleted_count, withdrawn_count, declined_count = get_participant_and_entry_info_deleted_page(soup)\n",
    "        deleted_participants_user_ids += user_ids\n",
    "        deleted_participants_entry_ids += entry_ids\n",
    "        rating = get_ratings(competition_url, page_number, False)\n",
    "        ratings += rating\n",
    "        status_all += status\n",
    "        submission_time_all += submission_time\n",
    "        total_deleted_count += deleted_count\n",
    "        total_withdrawn_count += withdrawn_count\n",
    "        total_declined_count += declined_count\n",
    "        if len(user_ids) < 36:\n",
    "            break\n",
    "\n",
    "    page_number += 1"
   ]
  },
  {
   "cell_type": "code",
   "execution_count": 38,
   "metadata": {},
   "outputs": [
    {
     "name": "stdout",
     "output_type": "stream",
     "text": [
      "['300080', '396217', '332573', '300080', '300080', '332573', '332573', '332573', '384234', '491986', '410426', '410426', '410426', '509385', '332573', '332573', '332573', '332573', '332573', '367806', '367806', '367806', '367806', '332573', '497832', '332573', '332573', '332573', '495898', '495898', '495898', '495898', '495898', '495898', '495898', '509587', '332573', '501828', '501828', '501828', '501828', '501828', '495898', '495898', '495898', '495898', '495898', '509385']\n",
      "['entry-32', 'entry-49', 'entry-40', 'entry-31', 'entry-29', 'entry-37', 'entry-28', 'entry-27', 'entry-26', 'entry-20', 'entry-19', 'entry-18', 'entry-17', 'entry-1', 'entry-59', 'entry-58', 'entry-57', 'entry-56', 'entry-55', 'entry-54', 'entry-53', 'entry-52', 'entry-51', 'entry-43', 'entry-42', 'entry-41', 'entry-39', 'entry-38', 'entry-25', 'entry-24', 'entry-23', 'entry-22', 'entry-21', 'entry-16', 'entry-15', 'entry-14', 'entry-13', 'entry-12', 'entry-11', 'entry-10', 'entry-9', 'entry-8', 'entry-7', 'entry-6', 'entry-5', 'entry-4', 'entry-3', 'entry-2']\n"
     ]
    }
   ],
   "source": [
    "print(deleted_participants_user_ids)\n",
    "print(deleted_participants_entry_ids)"
   ]
  },
  {
   "cell_type": "code",
   "execution_count": 39,
   "metadata": {},
   "outputs": [],
   "source": [
    "deleted_entries = []\n",
    "for entry_id, participant_id, status, submission_time, rating in zip(deleted_participants_entry_ids, \n",
    "                                    deleted_participants_user_ids, status_all, submission_time_all, ratings):\n",
    "    deleted_entries.append({'entry_id': entry_id, 'participant_id': participant_id, 'status': status, 'time': submission_time, 'rating':rating})"
   ]
  },
  {
   "cell_type": "markdown",
   "metadata": {},
   "source": [
    "## output to file"
   ]
  },
  {
   "cell_type": "code",
   "execution_count": 40,
   "metadata": {},
   "outputs": [],
   "source": [
    "df_competition_description = pd.DataFrame({'title': [title], 'url': competition_url, 'seeker': seeker, 'start_time': start_time,\n",
    "                                            'name_to_incorporate': [name_to_incorporate], 'slogan_to_incorporate': [slogan_to_incorporate], \n",
    "                                            'description': [description], 'industry': [industry],  \n",
    "                                            'logo_types': [logo_types],\n",
    "                                            'logo_to_be_used': [logo_to_be_used],\n",
    "                                            'colors_to_explore': [colors_to_explore], \n",
    "                                            'other_color_requirements': [other_color_requirements], \n",
    "                                            'style_attributes': [style_attributes], \n",
    "                                            'design_inspiration_count': [design_inspiration_count],\n",
    "                                            'attachments_count': [attachments_count], \n",
    "                                            'other_notes': [other_notes],\n",
    "                                            'entry_count': entry_count, 'deleted_entry_count': deleted_entry_count,\n",
    "                                            'deleted': total_deleted_count, 'withdrawn': total_withdrawn_count, \n",
    "                                            'declined': total_declined_count, \n",
    "                                            'prize': prize, 'entries': [entries],\n",
    "                                            'deleted_entries': [deleted_entries], 'winners': [winner_entry_ids]})"
   ]
  },
  {
   "cell_type": "code",
   "execution_count": 41,
   "metadata": {},
   "outputs": [],
   "source": [
    "competition_name = competition_url.split(\"/\")[-1]\n",
    "df_competition_description.to_csv('data_20220301/' + competition_name+'.csv', index=False)"
   ]
  },
  {
   "cell_type": "code",
   "execution_count": null,
   "metadata": {},
   "outputs": [],
   "source": []
  }
 ],
 "metadata": {
  "interpreter": {
   "hash": "52948da1f80cc8c76b63933abae9408dd3e5dd57b57e9f6bfacadbbefde53355"
  },
  "kernelspec": {
   "display_name": "Python 3.9.12 ('base')",
   "language": "python",
   "name": "python3"
  },
  "language_info": {
   "codemirror_mode": {
    "name": "ipython",
    "version": 3
   },
   "file_extension": ".py",
   "mimetype": "text/x-python",
   "name": "python",
   "nbconvert_exporter": "python",
   "pygments_lexer": "ipython3",
   "version": "3.9.12"
  }
 },
 "nbformat": 4,
 "nbformat_minor": 2
}
