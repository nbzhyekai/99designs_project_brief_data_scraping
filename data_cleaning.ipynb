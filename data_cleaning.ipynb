{
 "cells": [
  {
   "cell_type": "code",
   "execution_count": 1,
   "metadata": {},
   "outputs": [],
   "source": [
    "import warnings\n",
    "warnings.simplefilter(action='ignore')\n",
    "\n",
    "import numpy as np\n",
    "import pandas as pd\n",
    "import re\n",
    "import nltk\n",
    "import matplotlib.pyplot as plt"
   ]
  },
  {
   "cell_type": "code",
   "execution_count": 2,
   "metadata": {},
   "outputs": [],
   "source": [
    "filename = \"contests_webpage.csv\"\n",
    "data = pd.read_csv('data_20220301/' + filename, index_col=0)"
   ]
  },
  {
   "cell_type": "code",
   "execution_count": 3,
   "metadata": {},
   "outputs": [],
   "source": [
    "# href = pd.read_csv(\"data_20220301/href_20220301_before_change.csv\")"
   ]
  },
  {
   "cell_type": "code",
   "execution_count": 4,
   "metadata": {},
   "outputs": [
    {
     "data": {
      "text/plain": [
       "(671, 20)"
      ]
     },
     "execution_count": 4,
     "metadata": {},
     "output_type": "execute_result"
    }
   ],
   "source": [
    "data.shape"
   ]
  },
  {
   "cell_type": "code",
   "execution_count": 5,
   "metadata": {},
   "outputs": [
    {
     "data": {
      "text/plain": [
       "(671, 20)"
      ]
     },
     "execution_count": 5,
     "metadata": {},
     "output_type": "execute_result"
    }
   ],
   "source": [
    "data = data.drop_duplicates()\n",
    "data.shape"
   ]
  },
  {
   "cell_type": "code",
   "execution_count": 6,
   "metadata": {},
   "outputs": [],
   "source": [
    "# data = data.merge(href, left_on='url', right_on='href')\n",
    "# data = data.drop('href', axis=1)\n",
    "# data.shape"
   ]
  },
  {
   "cell_type": "code",
   "execution_count": 7,
   "metadata": {},
   "outputs": [
    {
     "data": {
      "text/html": [
       "<div>\n",
       "<style scoped>\n",
       "    .dataframe tbody tr th:only-of-type {\n",
       "        vertical-align: middle;\n",
       "    }\n",
       "\n",
       "    .dataframe tbody tr th {\n",
       "        vertical-align: top;\n",
       "    }\n",
       "\n",
       "    .dataframe thead th {\n",
       "        text-align: right;\n",
       "    }\n",
       "</style>\n",
       "<table border=\"1\" class=\"dataframe\">\n",
       "  <thead>\n",
       "    <tr style=\"text-align: right;\">\n",
       "      <th></th>\n",
       "      <th>url</th>\n",
       "      <th>seeker</th>\n",
       "      <th>overview</th>\n",
       "      <th>company_name</th>\n",
       "      <th>description_of_organization_and_audience</th>\n",
       "      <th>requirements</th>\n",
       "      <th>number_of_pages</th>\n",
       "      <th>page_descriptions</th>\n",
       "      <th>existing_website</th>\n",
       "      <th>example_websites</th>\n",
       "      <th>start_time</th>\n",
       "      <th>entry_count</th>\n",
       "      <th>deleted_entry_count</th>\n",
       "      <th>deleted</th>\n",
       "      <th>withdrawn</th>\n",
       "      <th>declined</th>\n",
       "      <th>prize</th>\n",
       "      <th>entries</th>\n",
       "      <th>deleted_entries</th>\n",
       "      <th>winners</th>\n",
       "    </tr>\n",
       "    <tr>\n",
       "      <th>title</th>\n",
       "      <th></th>\n",
       "      <th></th>\n",
       "      <th></th>\n",
       "      <th></th>\n",
       "      <th></th>\n",
       "      <th></th>\n",
       "      <th></th>\n",
       "      <th></th>\n",
       "      <th></th>\n",
       "      <th></th>\n",
       "      <th></th>\n",
       "      <th></th>\n",
       "      <th></th>\n",
       "      <th></th>\n",
       "      <th></th>\n",
       "      <th></th>\n",
       "      <th></th>\n",
       "      <th></th>\n",
       "      <th></th>\n",
       "      <th></th>\n",
       "    </tr>\n",
       "  </thead>\n",
       "  <tbody>\n",
       "    <tr>\n",
       "      <th>Cool project : Webpages for a Website dedicated to services</th>\n",
       "      <td>https://99designs.hk/web-design/contests/cool-...</td>\n",
       "      <td>Romain1</td>\n",
       "      <td>Coogny is focused on 3 activities : Baby sitti...</td>\n",
       "      <td>Coogny</td>\n",
       "      <td>Consumer oriented\\r\\nWomen between 25 &amp; 35\\r\\n...</td>\n",
       "      <td>The value and the idea Coogny's Website should...</td>\n",
       "      <td>4</td>\n",
       "      <td>Attached, you will find the wireframes of the ...</td>\n",
       "      <td>Unspecified</td>\n",
       "      <td>http://www.bubalicious.com.au/\\nhttp://www.joy...</td>\n",
       "      <td>Tue, 05 Oct 2010 13:51:49 +0000</td>\n",
       "      <td>13</td>\n",
       "      <td>13</td>\n",
       "      <td>1</td>\n",
       "      <td>7</td>\n",
       "      <td>5</td>\n",
       "      <td>US$810</td>\n",
       "      <td>[{'entry_id': 'entry-25', 'participant_id': '3...</td>\n",
       "      <td>[{'entry_id': 'entry-7', 'participant_id': '32...</td>\n",
       "      <td>['entry-17']</td>\n",
       "    </tr>\n",
       "    <tr>\n",
       "      <th>Professional Opera Singer website</th>\n",
       "      <td>https://99designs.hk/web-design/contests/profe...</td>\n",
       "      <td>Zfinkelstein</td>\n",
       "      <td>I am a 26-year old professional tenor opera si...</td>\n",
       "      <td>www.zachfinkelstein.com</td>\n",
       "      <td>-stage directors, opera directors, conductors,...</td>\n",
       "      <td>-simple, elegant and easy to navigate. No fanc...</td>\n",
       "      <td>1</td>\n",
       "      <td>I would like one page designed with all the bu...</td>\n",
       "      <td>NaN</td>\n",
       "      <td>http://www.annanetrebko.com/ -I LOVE this webs...</td>\n",
       "      <td>Tue, 05 Oct 2010 17:20:37 +0000</td>\n",
       "      <td>4</td>\n",
       "      <td>55</td>\n",
       "      <td>2</td>\n",
       "      <td>20</td>\n",
       "      <td>33</td>\n",
       "      <td>US$400</td>\n",
       "      <td>[{'entry_id': 'entry-53', 'participant_id': '3...</td>\n",
       "      <td>[{'entry_id': 'entry-51', 'participant_id': '3...</td>\n",
       "      <td>['entry-53']</td>\n",
       "    </tr>\n",
       "    <tr>\n",
       "      <th>Be My Designer: For a new kind of fashion experience</th>\n",
       "      <td>https://99designs.hk/web-design/contests/be-de...</td>\n",
       "      <td>Christinadoheny</td>\n",
       "      <td>I am a 30-something year old woman who sees a ...</td>\n",
       "      <td>www.flashandsplash.com</td>\n",
       "      <td>I will be selling to men and women. These cuso...</td>\n",
       "      <td>I want my site to be elegant, chic and invitin...</td>\n",
       "      <td>1</td>\n",
       "      <td>This will be the homepage. I need titles and b...</td>\n",
       "      <td>I just own the domain name; I have not created...</td>\n",
       "      <td>http://www.gina.com (easy to navigate, clean, ...</td>\n",
       "      <td>Tue, 05 Oct 2010 19:52:59 +0000</td>\n",
       "      <td>35</td>\n",
       "      <td>34</td>\n",
       "      <td>30</td>\n",
       "      <td>4</td>\n",
       "      <td>0</td>\n",
       "      <td>US$400</td>\n",
       "      <td>[{'entry_id': 'entry-69', 'participant_id': '4...</td>\n",
       "      <td>[{'entry_id': 'entry-24', 'participant_id': '4...</td>\n",
       "      <td>['entry-67']</td>\n",
       "    </tr>\n",
       "    <tr>\n",
       "      <th>Successful Italian Restaurant Needs Complete Website Redesign</th>\n",
       "      <td>https://99designs.hk/web-design/contests/succe...</td>\n",
       "      <td>rotondo</td>\n",
       "      <td>We will GUARANTEE this project when there are ...</td>\n",
       "      <td>www.amiccis.com</td>\n",
       "      <td>Our target audience are patrons and customers ...</td>\n",
       "      <td>FIRST, THE CODING:\\nThere is another $500.00+ ...</td>\n",
       "      <td>1</td>\n",
       "      <td>There will actually be around 15 total pages o...</td>\n",
       "      <td>http://www.amiccis.com\\nProblems:\\n1. The font...</td>\n",
       "      <td>We want bold, unique, fresh, and eye-catching ...</td>\n",
       "      <td>Wed, 06 Oct 2010 03:14:01 +0000</td>\n",
       "      <td>178</td>\n",
       "      <td>121</td>\n",
       "      <td>24</td>\n",
       "      <td>97</td>\n",
       "      <td>0</td>\n",
       "      <td>US$1,050</td>\n",
       "      <td>[{'entry_id': 'entry-298', 'participant_id': '...</td>\n",
       "      <td>[{'entry_id': 'entry-102', 'participant_id': '...</td>\n",
       "      <td>['entry-298']</td>\n",
       "    </tr>\n",
       "    <tr>\n",
       "      <th>Norway calling! A colourful coach/inspirator need web-design</th>\n",
       "      <td>https://99designs.hk/web-design/contests/norwa...</td>\n",
       "      <td>Liv Berit Tonnessen</td>\n",
       "      <td>Since 1994 I have been self employed. Up till ...</td>\n",
       "      <td>www.LivBerit.no (My two first names.)</td>\n",
       "      <td>I have 3 different customers:\\r\\n \\r\\n1 Leader...</td>\n",
       "      <td>I really want the designers to be creative, an...</td>\n",
       "      <td>2</td>\n",
       "      <td>Page 1 is homepage\\nPage 2 is the generic cont...</td>\n",
       "      <td>My old site: http://www.prosesskonsulenten.no\\...</td>\n",
       "      <td>http://www.scurdal.com/\\nThis is aesthetic, a ...</td>\n",
       "      <td>Wed, 06 Oct 2010 23:11:19 +0000</td>\n",
       "      <td>30</td>\n",
       "      <td>73</td>\n",
       "      <td>14</td>\n",
       "      <td>28</td>\n",
       "      <td>31</td>\n",
       "      <td>US$500</td>\n",
       "      <td>[{'entry_id': 'entry-81', 'participant_id': '3...</td>\n",
       "      <td>[{'entry_id': 'entry-83', 'participant_id': '3...</td>\n",
       "      <td>['entry-81']</td>\n",
       "    </tr>\n",
       "  </tbody>\n",
       "</table>\n",
       "</div>"
      ],
      "text/plain": [
       "                                                                                                  url  \\\n",
       "title                                                                                                   \n",
       "Cool project : Webpages for a Website dedicated...  https://99designs.hk/web-design/contests/cool-...   \n",
       "Professional Opera Singer website                   https://99designs.hk/web-design/contests/profe...   \n",
       "Be My Designer: For a new kind of fashion exper...  https://99designs.hk/web-design/contests/be-de...   \n",
       "Successful Italian Restaurant Needs Complete We...  https://99designs.hk/web-design/contests/succe...   \n",
       "Norway calling! A colourful coach/inspirator ne...  https://99designs.hk/web-design/contests/norwa...   \n",
       "\n",
       "                                                                 seeker  \\\n",
       "title                                                                     \n",
       "Cool project : Webpages for a Website dedicated...              Romain1   \n",
       "Professional Opera Singer website                          Zfinkelstein   \n",
       "Be My Designer: For a new kind of fashion exper...      Christinadoheny   \n",
       "Successful Italian Restaurant Needs Complete We...              rotondo   \n",
       "Norway calling! A colourful coach/inspirator ne...  Liv Berit Tonnessen   \n",
       "\n",
       "                                                                                             overview  \\\n",
       "title                                                                                                   \n",
       "Cool project : Webpages for a Website dedicated...  Coogny is focused on 3 activities : Baby sitti...   \n",
       "Professional Opera Singer website                   I am a 26-year old professional tenor opera si...   \n",
       "Be My Designer: For a new kind of fashion exper...  I am a 30-something year old woman who sees a ...   \n",
       "Successful Italian Restaurant Needs Complete We...  We will GUARANTEE this project when there are ...   \n",
       "Norway calling! A colourful coach/inspirator ne...  Since 1994 I have been self employed. Up till ...   \n",
       "\n",
       "                                                                             company_name  \\\n",
       "title                                                                                       \n",
       "Cool project : Webpages for a Website dedicated...                                 Coogny   \n",
       "Professional Opera Singer website                                 www.zachfinkelstein.com   \n",
       "Be My Designer: For a new kind of fashion exper...                 www.flashandsplash.com   \n",
       "Successful Italian Restaurant Needs Complete We...                        www.amiccis.com   \n",
       "Norway calling! A colourful coach/inspirator ne...  www.LivBerit.no (My two first names.)   \n",
       "\n",
       "                                                             description_of_organization_and_audience  \\\n",
       "title                                                                                                   \n",
       "Cool project : Webpages for a Website dedicated...  Consumer oriented\\r\\nWomen between 25 & 35\\r\\n...   \n",
       "Professional Opera Singer website                   -stage directors, opera directors, conductors,...   \n",
       "Be My Designer: For a new kind of fashion exper...  I will be selling to men and women. These cuso...   \n",
       "Successful Italian Restaurant Needs Complete We...  Our target audience are patrons and customers ...   \n",
       "Norway calling! A colourful coach/inspirator ne...  I have 3 different customers:\\r\\n \\r\\n1 Leader...   \n",
       "\n",
       "                                                                                         requirements  \\\n",
       "title                                                                                                   \n",
       "Cool project : Webpages for a Website dedicated...  The value and the idea Coogny's Website should...   \n",
       "Professional Opera Singer website                   -simple, elegant and easy to navigate. No fanc...   \n",
       "Be My Designer: For a new kind of fashion exper...  I want my site to be elegant, chic and invitin...   \n",
       "Successful Italian Restaurant Needs Complete We...  FIRST, THE CODING:\\nThere is another $500.00+ ...   \n",
       "Norway calling! A colourful coach/inspirator ne...  I really want the designers to be creative, an...   \n",
       "\n",
       "                                                    number_of_pages  \\\n",
       "title                                                                 \n",
       "Cool project : Webpages for a Website dedicated...                4   \n",
       "Professional Opera Singer website                                 1   \n",
       "Be My Designer: For a new kind of fashion exper...                1   \n",
       "Successful Italian Restaurant Needs Complete We...                1   \n",
       "Norway calling! A colourful coach/inspirator ne...                2   \n",
       "\n",
       "                                                                                    page_descriptions  \\\n",
       "title                                                                                                   \n",
       "Cool project : Webpages for a Website dedicated...  Attached, you will find the wireframes of the ...   \n",
       "Professional Opera Singer website                   I would like one page designed with all the bu...   \n",
       "Be My Designer: For a new kind of fashion exper...  This will be the homepage. I need titles and b...   \n",
       "Successful Italian Restaurant Needs Complete We...  There will actually be around 15 total pages o...   \n",
       "Norway calling! A colourful coach/inspirator ne...  Page 1 is homepage\\nPage 2 is the generic cont...   \n",
       "\n",
       "                                                                                     existing_website  \\\n",
       "title                                                                                                   \n",
       "Cool project : Webpages for a Website dedicated...                                        Unspecified   \n",
       "Professional Opera Singer website                                                                 NaN   \n",
       "Be My Designer: For a new kind of fashion exper...  I just own the domain name; I have not created...   \n",
       "Successful Italian Restaurant Needs Complete We...  http://www.amiccis.com\\nProblems:\\n1. The font...   \n",
       "Norway calling! A colourful coach/inspirator ne...  My old site: http://www.prosesskonsulenten.no\\...   \n",
       "\n",
       "                                                                                     example_websites  \\\n",
       "title                                                                                                   \n",
       "Cool project : Webpages for a Website dedicated...  http://www.bubalicious.com.au/\\nhttp://www.joy...   \n",
       "Professional Opera Singer website                   http://www.annanetrebko.com/ -I LOVE this webs...   \n",
       "Be My Designer: For a new kind of fashion exper...  http://www.gina.com (easy to navigate, clean, ...   \n",
       "Successful Italian Restaurant Needs Complete We...  We want bold, unique, fresh, and eye-catching ...   \n",
       "Norway calling! A colourful coach/inspirator ne...  http://www.scurdal.com/\\nThis is aesthetic, a ...   \n",
       "\n",
       "                                                                         start_time  \\\n",
       "title                                                                                 \n",
       "Cool project : Webpages for a Website dedicated...  Tue, 05 Oct 2010 13:51:49 +0000   \n",
       "Professional Opera Singer website                   Tue, 05 Oct 2010 17:20:37 +0000   \n",
       "Be My Designer: For a new kind of fashion exper...  Tue, 05 Oct 2010 19:52:59 +0000   \n",
       "Successful Italian Restaurant Needs Complete We...  Wed, 06 Oct 2010 03:14:01 +0000   \n",
       "Norway calling! A colourful coach/inspirator ne...  Wed, 06 Oct 2010 23:11:19 +0000   \n",
       "\n",
       "                                                    entry_count  \\\n",
       "title                                                             \n",
       "Cool project : Webpages for a Website dedicated...           13   \n",
       "Professional Opera Singer website                             4   \n",
       "Be My Designer: For a new kind of fashion exper...           35   \n",
       "Successful Italian Restaurant Needs Complete We...          178   \n",
       "Norway calling! A colourful coach/inspirator ne...           30   \n",
       "\n",
       "                                                    deleted_entry_count  \\\n",
       "title                                                                     \n",
       "Cool project : Webpages for a Website dedicated...                   13   \n",
       "Professional Opera Singer website                                    55   \n",
       "Be My Designer: For a new kind of fashion exper...                   34   \n",
       "Successful Italian Restaurant Needs Complete We...                  121   \n",
       "Norway calling! A colourful coach/inspirator ne...                   73   \n",
       "\n",
       "                                                    deleted  withdrawn  \\\n",
       "title                                                                    \n",
       "Cool project : Webpages for a Website dedicated...        1          7   \n",
       "Professional Opera Singer website                         2         20   \n",
       "Be My Designer: For a new kind of fashion exper...       30          4   \n",
       "Successful Italian Restaurant Needs Complete We...       24         97   \n",
       "Norway calling! A colourful coach/inspirator ne...       14         28   \n",
       "\n",
       "                                                    declined     prize  \\\n",
       "title                                                                    \n",
       "Cool project : Webpages for a Website dedicated...         5    US$810   \n",
       "Professional Opera Singer website                         33    US$400   \n",
       "Be My Designer: For a new kind of fashion exper...         0    US$400   \n",
       "Successful Italian Restaurant Needs Complete We...         0  US$1,050   \n",
       "Norway calling! A colourful coach/inspirator ne...        31    US$500   \n",
       "\n",
       "                                                                                              entries  \\\n",
       "title                                                                                                   \n",
       "Cool project : Webpages for a Website dedicated...  [{'entry_id': 'entry-25', 'participant_id': '3...   \n",
       "Professional Opera Singer website                   [{'entry_id': 'entry-53', 'participant_id': '3...   \n",
       "Be My Designer: For a new kind of fashion exper...  [{'entry_id': 'entry-69', 'participant_id': '4...   \n",
       "Successful Italian Restaurant Needs Complete We...  [{'entry_id': 'entry-298', 'participant_id': '...   \n",
       "Norway calling! A colourful coach/inspirator ne...  [{'entry_id': 'entry-81', 'participant_id': '3...   \n",
       "\n",
       "                                                                                      deleted_entries  \\\n",
       "title                                                                                                   \n",
       "Cool project : Webpages for a Website dedicated...  [{'entry_id': 'entry-7', 'participant_id': '32...   \n",
       "Professional Opera Singer website                   [{'entry_id': 'entry-51', 'participant_id': '3...   \n",
       "Be My Designer: For a new kind of fashion exper...  [{'entry_id': 'entry-24', 'participant_id': '4...   \n",
       "Successful Italian Restaurant Needs Complete We...  [{'entry_id': 'entry-102', 'participant_id': '...   \n",
       "Norway calling! A colourful coach/inspirator ne...  [{'entry_id': 'entry-83', 'participant_id': '3...   \n",
       "\n",
       "                                                          winners  \n",
       "title                                                              \n",
       "Cool project : Webpages for a Website dedicated...   ['entry-17']  \n",
       "Professional Opera Singer website                    ['entry-53']  \n",
       "Be My Designer: For a new kind of fashion exper...   ['entry-67']  \n",
       "Successful Italian Restaurant Needs Complete We...  ['entry-298']  \n",
       "Norway calling! A colourful coach/inspirator ne...   ['entry-81']  "
      ]
     },
     "execution_count": 7,
     "metadata": {},
     "output_type": "execute_result"
    }
   ],
   "source": [
    "data.head()"
   ]
  },
  {
   "cell_type": "markdown",
   "metadata": {},
   "source": [
    "## get contest tags"
   ]
  },
  {
   "cell_type": "code",
   "execution_count": 8,
   "metadata": {},
   "outputs": [],
   "source": [
    "# data['guaranteed'] = data['tags'].apply(lambda x: 1 if 'Guaranteed' in x else 0)\n",
    "# data['blind'] = data['tags'].apply(lambda x: 1 if 'Blind' in x else 0)\n",
    "# data['not_blind'] = data['tags'].apply(lambda x: 0 if 'Blind' in x else 1)\n",
    "# data['fast_tracked'] = data['tags'].apply(lambda x: 1 if 'Fast-tracked' in x else 0)\n"
   ]
  },
  {
   "cell_type": "code",
   "execution_count": 9,
   "metadata": {},
   "outputs": [],
   "source": [
    "# data['gold'] = data['tags'].apply(lambda x: 1 if 'Gold' in x else 0)\n",
    "# data['platinum'] = data['tags'].apply(lambda x: 1 if 'Platinum' in x else 0)"
   ]
  },
  {
   "cell_type": "code",
   "execution_count": 10,
   "metadata": {},
   "outputs": [],
   "source": [
    "# get entry level data\n",
    "# data = data[(data['gold']==1) | (data['platinum']==1)]\n",
    "# data.shape"
   ]
  },
  {
   "cell_type": "code",
   "execution_count": 11,
   "metadata": {},
   "outputs": [],
   "source": [
    "# data[['guaranteed', 'blind', 'not_blind', 'fast_tracked', 'gold', 'platinum']].describe()"
   ]
  },
  {
   "cell_type": "markdown",
   "metadata": {},
   "source": [
    "## seeker: those who have host more than 1 contest"
   ]
  },
  {
   "cell_type": "code",
   "execution_count": 12,
   "metadata": {},
   "outputs": [],
   "source": [
    "# data['seeker'].value_counts()[:20]"
   ]
  },
  {
   "cell_type": "code",
   "execution_count": null,
   "metadata": {},
   "outputs": [],
   "source": []
  },
  {
   "cell_type": "markdown",
   "metadata": {},
   "source": [
    "## contest type"
   ]
  },
  {
   "cell_type": "code",
   "execution_count": 13,
   "metadata": {},
   "outputs": [],
   "source": [
    "# data['contest_type'] = data['url'].apply(lambda x: x.split('/')[3].replace('-', '_'))"
   ]
  },
  {
   "cell_type": "code",
   "execution_count": 14,
   "metadata": {},
   "outputs": [],
   "source": [
    "# data['contest_type'].value_counts()"
   ]
  },
  {
   "cell_type": "code",
   "execution_count": 15,
   "metadata": {},
   "outputs": [],
   "source": [
    "# data = data[data['contest_type']=='logo_design']\n",
    "# data.shape"
   ]
  },
  {
   "cell_type": "code",
   "execution_count": 17,
   "metadata": {},
   "outputs": [],
   "source": [
    "# data = data.drop('contest_type', axis=1)"
   ]
  },
  {
   "cell_type": "markdown",
   "metadata": {},
   "source": [
    "## prize"
   ]
  },
  {
   "cell_type": "code",
   "execution_count": 18,
   "metadata": {},
   "outputs": [],
   "source": [
    "data['prize'] = data['prize'].apply(lambda x: int(x.replace(',', '').replace('US$', '')))"
   ]
  },
  {
   "cell_type": "code",
   "execution_count": 19,
   "metadata": {},
   "outputs": [
    {
     "data": {
      "text/plain": [
       "count     671.000000\n",
       "mean      643.773472\n",
       "std       287.361350\n",
       "min       396.000000\n",
       "25%       400.000000\n",
       "50%       600.000000\n",
       "75%       750.000000\n",
       "max      2736.000000\n",
       "Name: prize, dtype: float64"
      ]
     },
     "execution_count": 19,
     "metadata": {},
     "output_type": "execute_result"
    }
   ],
   "source": [
    "data['prize'].describe()"
   ]
  },
  {
   "cell_type": "code",
   "execution_count": 20,
   "metadata": {},
   "outputs": [
    {
     "data": {
      "text/plain": [
       "<AxesSubplot:>"
      ]
     },
     "execution_count": 20,
     "metadata": {},
     "output_type": "execute_result"
    },
    {
     "data": {
      "image/png": "[encoded data removed]",
      "text/plain": [
       "<Figure size 432x288 with 1 Axes>"
      ]
     },
     "metadata": {
      "needs_background": "light"
     },
     "output_type": "display_data"
    }
   ],
   "source": [
    "data['prize'].plot(kind='box')"
   ]
  },
  {
   "cell_type": "code",
   "execution_count": 21,
   "metadata": {},
   "outputs": [],
   "source": [
    "import math\n",
    "data['prize_log'] = data['prize'].apply(math.log)"
   ]
  },
  {
   "cell_type": "code",
   "execution_count": 22,
   "metadata": {},
   "outputs": [
    {
     "data": {
      "text/html": [
       "<div>\n",
       "<style scoped>\n",
       "    .dataframe tbody tr th:only-of-type {\n",
       "        vertical-align: middle;\n",
       "    }\n",
       "\n",
       "    .dataframe tbody tr th {\n",
       "        vertical-align: top;\n",
       "    }\n",
       "\n",
       "    .dataframe thead th {\n",
       "        text-align: right;\n",
       "    }\n",
       "</style>\n",
       "<table border=\"1\" class=\"dataframe\">\n",
       "  <thead>\n",
       "    <tr style=\"text-align: right;\">\n",
       "      <th></th>\n",
       "      <th>prize</th>\n",
       "      <th>prize_log</th>\n",
       "    </tr>\n",
       "    <tr>\n",
       "      <th>title</th>\n",
       "      <th></th>\n",
       "      <th></th>\n",
       "    </tr>\n",
       "  </thead>\n",
       "  <tbody>\n",
       "    <tr>\n",
       "      <th>Cool project : Webpages for a Website dedicated to services</th>\n",
       "      <td>810</td>\n",
       "      <td>6.697034</td>\n",
       "    </tr>\n",
       "    <tr>\n",
       "      <th>Professional Opera Singer website</th>\n",
       "      <td>400</td>\n",
       "      <td>5.991465</td>\n",
       "    </tr>\n",
       "    <tr>\n",
       "      <th>Be My Designer: For a new kind of fashion experience</th>\n",
       "      <td>400</td>\n",
       "      <td>5.991465</td>\n",
       "    </tr>\n",
       "    <tr>\n",
       "      <th>Successful Italian Restaurant Needs Complete Website Redesign</th>\n",
       "      <td>1050</td>\n",
       "      <td>6.956545</td>\n",
       "    </tr>\n",
       "    <tr>\n",
       "      <th>Norway calling! A colourful coach/inspirator need web-design</th>\n",
       "      <td>500</td>\n",
       "      <td>6.214608</td>\n",
       "    </tr>\n",
       "  </tbody>\n",
       "</table>\n",
       "</div>"
      ],
      "text/plain": [
       "                                                    prize  prize_log\n",
       "title                                                               \n",
       "Cool project : Webpages for a Website dedicated...    810   6.697034\n",
       "Professional Opera Singer website                     400   5.991465\n",
       "Be My Designer: For a new kind of fashion exper...    400   5.991465\n",
       "Successful Italian Restaurant Needs Complete We...   1050   6.956545\n",
       "Norway calling! A colourful coach/inspirator ne...    500   6.214608"
      ]
     },
     "execution_count": 22,
     "metadata": {},
     "output_type": "execute_result"
    }
   ],
   "source": [
    "data[['prize','prize_log']][:5]"
   ]
  },
  {
   "cell_type": "markdown",
   "metadata": {},
   "source": [
    "## start time"
   ]
  },
  {
   "cell_type": "code",
   "execution_count": 23,
   "metadata": {},
   "outputs": [],
   "source": [
    "data['start_date'] = data['start_time'].apply(lambda x: pd.to_datetime(x).date())"
   ]
  },
  {
   "cell_type": "markdown",
   "metadata": {},
   "source": [
    "## number of winners"
   ]
  },
  {
   "cell_type": "code",
   "execution_count": 24,
   "metadata": {},
   "outputs": [],
   "source": [
    "data['number_of_winners'] = data['winners'].apply(lambda x: len(str(x)[1:-1].split(',')))"
   ]
  },
  {
   "cell_type": "code",
   "execution_count": 25,
   "metadata": {},
   "outputs": [
    {
     "data": {
      "text/plain": [
       "1     659\n",
       "2      10\n",
       "3       1\n",
       "10      1\n",
       "Name: number_of_winners, dtype: int64"
      ]
     },
     "execution_count": 25,
     "metadata": {},
     "output_type": "execute_result"
    }
   ],
   "source": [
    "data['number_of_winners'].value_counts()"
   ]
  },
  {
   "cell_type": "code",
   "execution_count": 26,
   "metadata": {},
   "outputs": [],
   "source": [
    "data['multi_winner'] = data['number_of_winners'].apply(lambda x: 1 if x > 1 else 0)\n"
   ]
  },
  {
   "cell_type": "code",
   "execution_count": 27,
   "metadata": {},
   "outputs": [
    {
     "data": {
      "text/plain": [
       "0    659\n",
       "1     12\n",
       "Name: multi_winner, dtype: int64"
      ]
     },
     "execution_count": 27,
     "metadata": {},
     "output_type": "execute_result"
    }
   ],
   "source": [
    "data['multi_winner'].value_counts()"
   ]
  },
  {
   "cell_type": "markdown",
   "metadata": {},
   "source": [
    "## number of submission"
   ]
  },
  {
   "cell_type": "code",
   "execution_count": 28,
   "metadata": {},
   "outputs": [],
   "source": [
    "data['total_submission'] = data['entry_count'] + data['deleted_entry_count']"
   ]
  },
  {
   "cell_type": "markdown",
   "metadata": {},
   "source": [
    "## number of participants"
   ]
  },
  {
   "cell_type": "code",
   "execution_count": 29,
   "metadata": {},
   "outputs": [],
   "source": [
    "def get_number_of_participants(entries, deleted_entries):\n",
    "    participant_ids = []\n",
    "\n",
    "    pattern = \"'participant_id': '(\\d{5,7}')\"\n",
    "    participant_ids += re.findall(pattern, entries) \n",
    "    participant_ids += re.findall(pattern, deleted_entries) \n",
    "\n",
    "    return len(set(participant_ids))\n",
    "    "
   ]
  },
  {
   "cell_type": "code",
   "execution_count": 30,
   "metadata": {},
   "outputs": [],
   "source": [
    "data['number_of_participants'] = data.apply(lambda row: get_number_of_participants(row['entries'], row['deleted_entries']), axis=1)"
   ]
  },
  {
   "cell_type": "code",
   "execution_count": 31,
   "metadata": {},
   "outputs": [
    {
     "data": {
      "text/html": [
       "<div>\n",
       "<style scoped>\n",
       "    .dataframe tbody tr th:only-of-type {\n",
       "        vertical-align: middle;\n",
       "    }\n",
       "\n",
       "    .dataframe tbody tr th {\n",
       "        vertical-align: top;\n",
       "    }\n",
       "\n",
       "    .dataframe thead th {\n",
       "        text-align: right;\n",
       "    }\n",
       "</style>\n",
       "<table border=\"1\" class=\"dataframe\">\n",
       "  <thead>\n",
       "    <tr style=\"text-align: right;\">\n",
       "      <th></th>\n",
       "      <th>total_submission</th>\n",
       "      <th>number_of_participants</th>\n",
       "    </tr>\n",
       "  </thead>\n",
       "  <tbody>\n",
       "    <tr>\n",
       "      <th>count</th>\n",
       "      <td>671.000000</td>\n",
       "      <td>671.000000</td>\n",
       "    </tr>\n",
       "    <tr>\n",
       "      <th>mean</th>\n",
       "      <td>58.697466</td>\n",
       "      <td>13.502235</td>\n",
       "    </tr>\n",
       "    <tr>\n",
       "      <th>std</th>\n",
       "      <td>61.321268</td>\n",
       "      <td>11.194598</td>\n",
       "    </tr>\n",
       "    <tr>\n",
       "      <th>min</th>\n",
       "      <td>2.000000</td>\n",
       "      <td>1.000000</td>\n",
       "    </tr>\n",
       "    <tr>\n",
       "      <th>25%</th>\n",
       "      <td>27.000000</td>\n",
       "      <td>7.000000</td>\n",
       "    </tr>\n",
       "    <tr>\n",
       "      <th>50%</th>\n",
       "      <td>45.000000</td>\n",
       "      <td>11.000000</td>\n",
       "    </tr>\n",
       "    <tr>\n",
       "      <th>75%</th>\n",
       "      <td>71.000000</td>\n",
       "      <td>17.000000</td>\n",
       "    </tr>\n",
       "    <tr>\n",
       "      <th>max</th>\n",
       "      <td>1073.000000</td>\n",
       "      <td>183.000000</td>\n",
       "    </tr>\n",
       "  </tbody>\n",
       "</table>\n",
       "</div>"
      ],
      "text/plain": [
       "       total_submission  number_of_participants\n",
       "count        671.000000              671.000000\n",
       "mean          58.697466               13.502235\n",
       "std           61.321268               11.194598\n",
       "min            2.000000                1.000000\n",
       "25%           27.000000                7.000000\n",
       "50%           45.000000               11.000000\n",
       "75%           71.000000               17.000000\n",
       "max         1073.000000              183.000000"
      ]
     },
     "execution_count": 31,
     "metadata": {},
     "output_type": "execute_result"
    }
   ],
   "source": [
    "data[['total_submission', 'number_of_participants']].describe()"
   ]
  },
  {
   "cell_type": "markdown",
   "metadata": {},
   "source": [
    "## number of submission per participants"
   ]
  },
  {
   "cell_type": "code",
   "execution_count": 32,
   "metadata": {},
   "outputs": [],
   "source": [
    "data['number_of_submission_per_participants'] = data['total_submission'] / data['number_of_participants']"
   ]
  },
  {
   "cell_type": "code",
   "execution_count": 33,
   "metadata": {},
   "outputs": [],
   "source": [
    "# data_entry_level.shape"
   ]
  },
  {
   "cell_type": "code",
   "execution_count": 34,
   "metadata": {},
   "outputs": [],
   "source": [
    "data.to_csv('data_20220301/cleaned_' + filename, index=False)"
   ]
  }
 ],
 "metadata": {
  "interpreter": {
   "hash": "5af03e6f6884cdcbf495aa98cbd8d63d5d0ed05506dbd026ba0a4981213ae30b"
  },
  "kernelspec": {
   "display_name": "Python 3.8.8 64-bit ('base': conda)",
   "name": "python3"
  },
  "language_info": {
   "codemirror_mode": {
    "name": "ipython",
    "version": 3
   },
   "file_extension": ".py",
   "mimetype": "text/x-python",
   "name": "python",
   "nbconvert_exporter": "python",
   "pygments_lexer": "ipython3",
   "version": "3.8.8"
  },
  "orig_nbformat": 4
 },
 "nbformat": 4,
 "nbformat_minor": 2
}
