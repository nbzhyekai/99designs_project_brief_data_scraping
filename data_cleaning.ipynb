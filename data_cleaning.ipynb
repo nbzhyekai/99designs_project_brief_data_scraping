{
 "cells": [
  {
   "cell_type": "code",
   "execution_count": 34,
   "metadata": {},
   "outputs": [],
   "source": [
    "import warnings\n",
    "warnings.simplefilter(action='ignore')\n",
    "\n",
    "import numpy as np\n",
    "import pandas as pd\n",
    "import re\n",
    "import nltk\n",
    "import matplotlib.pyplot as plt"
   ]
  },
  {
   "cell_type": "code",
   "execution_count": 35,
   "metadata": {},
   "outputs": [],
   "source": [
    "filename = \"contest_data_after_change_part3.csv\"\n",
    "data = pd.read_csv('data_20220301/' + filename, index_col=0)"
   ]
  },
  {
   "cell_type": "code",
   "execution_count": 36,
   "metadata": {},
   "outputs": [],
   "source": [
    "href = pd.read_csv(\"data_20220301/href_20220301_after_change.csv\")"
   ]
  },
  {
   "cell_type": "code",
   "execution_count": 37,
   "metadata": {},
   "outputs": [
    {
     "data": {
      "text/plain": [
       "(1925, 24)"
      ]
     },
     "execution_count": 37,
     "metadata": {},
     "output_type": "execute_result"
    }
   ],
   "source": [
    "data.shape"
   ]
  },
  {
   "cell_type": "code",
   "execution_count": 38,
   "metadata": {},
   "outputs": [
    {
     "data": {
      "text/plain": [
       "(1925, 24)"
      ]
     },
     "execution_count": 38,
     "metadata": {},
     "output_type": "execute_result"
    }
   ],
   "source": [
    "data = data.drop_duplicates()\n",
    "data.shape"
   ]
  },
  {
   "cell_type": "code",
   "execution_count": 39,
   "metadata": {},
   "outputs": [
    {
     "data": {
      "text/plain": [
       "(1925, 25)"
      ]
     },
     "execution_count": 39,
     "metadata": {},
     "output_type": "execute_result"
    }
   ],
   "source": [
    "data = data.merge(href, left_on='url', right_on='href')\n",
    "data = data.drop('href', axis=1)\n",
    "data.shape"
   ]
  },
  {
   "cell_type": "code",
   "execution_count": 40,
   "metadata": {},
   "outputs": [
    {
     "data": {
      "text/html": [
       "<div>\n",
       "<style scoped>\n",
       "    .dataframe tbody tr th:only-of-type {\n",
       "        vertical-align: middle;\n",
       "    }\n",
       "\n",
       "    .dataframe tbody tr th {\n",
       "        vertical-align: top;\n",
       "    }\n",
       "\n",
       "    .dataframe thead th {\n",
       "        text-align: right;\n",
       "    }\n",
       "</style>\n",
       "<table border=\"1\" class=\"dataframe\">\n",
       "  <thead>\n",
       "    <tr style=\"text-align: right;\">\n",
       "      <th></th>\n",
       "      <th>url</th>\n",
       "      <th>seeker</th>\n",
       "      <th>start_time</th>\n",
       "      <th>name_to_incorporate</th>\n",
       "      <th>slogan_to_incorporate</th>\n",
       "      <th>description</th>\n",
       "      <th>industry</th>\n",
       "      <th>logo_types</th>\n",
       "      <th>logo_to_be_used</th>\n",
       "      <th>colors_to_explore</th>\n",
       "      <th>...</th>\n",
       "      <th>entry_count</th>\n",
       "      <th>deleted_entry_count</th>\n",
       "      <th>deleted</th>\n",
       "      <th>withdrawn</th>\n",
       "      <th>declined</th>\n",
       "      <th>prize</th>\n",
       "      <th>entries</th>\n",
       "      <th>deleted_entries</th>\n",
       "      <th>winners</th>\n",
       "      <th>tags</th>\n",
       "    </tr>\n",
       "  </thead>\n",
       "  <tbody>\n",
       "    <tr>\n",
       "      <th>0</th>\n",
       "      <td>https://99designs.hk/logo-design/contests/logo...</td>\n",
       "      <td>Snoppe</td>\n",
       "      <td>Fri, 15 Apr 2011 18:26:51 +0000</td>\n",
       "      <td>R&amp;N Manufacturing, Ltd</td>\n",
       "      <td>Unspecified</td>\n",
       "      <td>Fabricates a variety of shapes and sizes of st...</td>\n",
       "      <td>Unspecified</td>\n",
       "      <td>Word mark\\nPictorial mark\\nAbstract mark\\nEmbl...</td>\n",
       "      <td>Print (Business cards, letterheads, brochures ...</td>\n",
       "      <td>[\"Blue as the main color then Silver, White, B...</td>\n",
       "      <td>...</td>\n",
       "      <td>7</td>\n",
       "      <td>149</td>\n",
       "      <td>0</td>\n",
       "      <td>45</td>\n",
       "      <td>78</td>\n",
       "      <td>US$400</td>\n",
       "      <td>[{'entry_id': 'entry-153', 'participant_id': '...</td>\n",
       "      <td>[{'entry_id': 'entry-110', 'participant_id': '...</td>\n",
       "      <td>['entry-113']</td>\n",
       "      <td>Fast-tracked Logo design</td>\n",
       "    </tr>\n",
       "    <tr>\n",
       "      <th>1</th>\n",
       "      <td>https://99designs.hk/logo-design/contests/zumo...</td>\n",
       "      <td>Justinz</td>\n",
       "      <td>Fri, 15 Apr 2011 18:44:59 +0000</td>\n",
       "      <td>ZumoPrint</td>\n",
       "      <td>Unspecified</td>\n",
       "      <td>We are a commercial printing company that prod...</td>\n",
       "      <td>Unspecified</td>\n",
       "      <td>Abstract mark\\nEmblem\\nCharacter</td>\n",
       "      <td>Print (Business cards, letterheads, brochures ...</td>\n",
       "      <td>['blue or red or open to anything']</td>\n",
       "      <td>...</td>\n",
       "      <td>70</td>\n",
       "      <td>145</td>\n",
       "      <td>5</td>\n",
       "      <td>57</td>\n",
       "      <td>9</td>\n",
       "      <td>US$276</td>\n",
       "      <td>[{'entry_id': 'entry-73', 'participant_id': '4...</td>\n",
       "      <td>[{'entry_id': 'entry-110', 'participant_id': '...</td>\n",
       "      <td>['entry-73']</td>\n",
       "      <td>Guaranteed Fast-tracked Logo design</td>\n",
       "    </tr>\n",
       "    <tr>\n",
       "      <th>2</th>\n",
       "      <td>https://99designs.hk/logo-design/contests/blog...</td>\n",
       "      <td>scodtt</td>\n",
       "      <td>Fri, 15 Apr 2011 18:48:36 +0000</td>\n",
       "      <td>BlogMutt</td>\n",
       "      <td>Unspecified</td>\n",
       "      <td>A crowd of writers helps fill up the blogs of ...</td>\n",
       "      <td>Unspecified</td>\n",
       "      <td>Word mark\\nPictorial mark\\nAbstract mark\\nEmbl...</td>\n",
       "      <td>Print (Business cards, letterheads, brochures ...</td>\n",
       "      <td>['Open to creativity']</td>\n",
       "      <td>...</td>\n",
       "      <td>37</td>\n",
       "      <td>78</td>\n",
       "      <td>2</td>\n",
       "      <td>29</td>\n",
       "      <td>30</td>\n",
       "      <td>US$200</td>\n",
       "      <td>[{'entry_id': 'entry-20', 'participant_id': '3...</td>\n",
       "      <td>[{'entry_id': 'entry-84', 'participant_id': '2...</td>\n",
       "      <td>['entry-20']</td>\n",
       "      <td>Guaranteed Fast-tracked Logo design</td>\n",
       "    </tr>\n",
       "    <tr>\n",
       "      <th>3</th>\n",
       "      <td>https://99designs.hk/logo-design/contests/logo...</td>\n",
       "      <td>Phillip.switzer</td>\n",
       "      <td>Fri, 15 Apr 2011 19:05:49 +0000</td>\n",
       "      <td>Teletka</td>\n",
       "      <td>Unspecified</td>\n",
       "      <td>We provide a service that allows someone to ca...</td>\n",
       "      <td>Unspecified</td>\n",
       "      <td>Word mark\\nLetter mark\\nEmblem\\nCharacter\\nWeb...</td>\n",
       "      <td>Online (Website, online advertising, banner ad...</td>\n",
       "      <td>['Open to color schemes']</td>\n",
       "      <td>...</td>\n",
       "      <td>7</td>\n",
       "      <td>32</td>\n",
       "      <td>0</td>\n",
       "      <td>17</td>\n",
       "      <td>11</td>\n",
       "      <td>US$300</td>\n",
       "      <td>[{'entry_id': 'entry-39', 'participant_id': '3...</td>\n",
       "      <td>[{'entry_id': 'entry-28', 'participant_id': '4...</td>\n",
       "      <td>['entry-39']</td>\n",
       "      <td>Fast-tracked Logo design</td>\n",
       "    </tr>\n",
       "    <tr>\n",
       "      <th>4</th>\n",
       "      <td>https://99designs.hk/logo-design/contests/logo...</td>\n",
       "      <td>Dsenai</td>\n",
       "      <td>Fri, 15 Apr 2011 19:20:53 +0000</td>\n",
       "      <td>proQur</td>\n",
       "      <td>Unspecified</td>\n",
       "      <td>proQur makes web-based software that helps mec...</td>\n",
       "      <td>Unspecified</td>\n",
       "      <td>Word mark\\nPictorial mark\\nWeb 2.0</td>\n",
       "      <td>Print (Business cards, letterheads, brochures ...</td>\n",
       "      <td>['Open to creativity']</td>\n",
       "      <td>...</td>\n",
       "      <td>4</td>\n",
       "      <td>50</td>\n",
       "      <td>1</td>\n",
       "      <td>31</td>\n",
       "      <td>10</td>\n",
       "      <td>US$200</td>\n",
       "      <td>[{'entry_id': 'entry-17', 'participant_id': '5...</td>\n",
       "      <td>[{'entry_id': 'entry-53', 'participant_id': '4...</td>\n",
       "      <td>['entry-53']</td>\n",
       "      <td>Guaranteed Fast-tracked Logo design</td>\n",
       "    </tr>\n",
       "  </tbody>\n",
       "</table>\n",
       "<p>5 rows × 25 columns</p>\n",
       "</div>"
      ],
      "text/plain": [
       "                                                 url           seeker  \\\n",
       "0  https://99designs.hk/logo-design/contests/logo...           Snoppe   \n",
       "1  https://99designs.hk/logo-design/contests/zumo...          Justinz   \n",
       "2  https://99designs.hk/logo-design/contests/blog...           scodtt   \n",
       "3  https://99designs.hk/logo-design/contests/logo...  Phillip.switzer   \n",
       "4  https://99designs.hk/logo-design/contests/logo...           Dsenai   \n",
       "\n",
       "                        start_time     name_to_incorporate  \\\n",
       "0  Fri, 15 Apr 2011 18:26:51 +0000  R&N Manufacturing, Ltd   \n",
       "1  Fri, 15 Apr 2011 18:44:59 +0000               ZumoPrint   \n",
       "2  Fri, 15 Apr 2011 18:48:36 +0000                BlogMutt   \n",
       "3  Fri, 15 Apr 2011 19:05:49 +0000                 Teletka   \n",
       "4  Fri, 15 Apr 2011 19:20:53 +0000                  proQur   \n",
       "\n",
       "  slogan_to_incorporate                                        description  \\\n",
       "0           Unspecified  Fabricates a variety of shapes and sizes of st...   \n",
       "1           Unspecified  We are a commercial printing company that prod...   \n",
       "2           Unspecified  A crowd of writers helps fill up the blogs of ...   \n",
       "3           Unspecified  We provide a service that allows someone to ca...   \n",
       "4           Unspecified  proQur makes web-based software that helps mec...   \n",
       "\n",
       "      industry                                         logo_types  \\\n",
       "0  Unspecified  Word mark\\nPictorial mark\\nAbstract mark\\nEmbl...   \n",
       "1  Unspecified                   Abstract mark\\nEmblem\\nCharacter   \n",
       "2  Unspecified  Word mark\\nPictorial mark\\nAbstract mark\\nEmbl...   \n",
       "3  Unspecified  Word mark\\nLetter mark\\nEmblem\\nCharacter\\nWeb...   \n",
       "4  Unspecified                 Word mark\\nPictorial mark\\nWeb 2.0   \n",
       "\n",
       "                                     logo_to_be_used  \\\n",
       "0  Print (Business cards, letterheads, brochures ...   \n",
       "1  Print (Business cards, letterheads, brochures ...   \n",
       "2  Print (Business cards, letterheads, brochures ...   \n",
       "3  Online (Website, online advertising, banner ad...   \n",
       "4  Print (Business cards, letterheads, brochures ...   \n",
       "\n",
       "                                   colors_to_explore  ... entry_count  \\\n",
       "0  [\"Blue as the main color then Silver, White, B...  ...           7   \n",
       "1                ['blue or red or open to anything']  ...          70   \n",
       "2                             ['Open to creativity']  ...          37   \n",
       "3                          ['Open to color schemes']  ...           7   \n",
       "4                             ['Open to creativity']  ...           4   \n",
       "\n",
       "  deleted_entry_count  deleted  withdrawn declined   prize  \\\n",
       "0                 149        0         45       78  US$400   \n",
       "1                 145        5         57        9  US$276   \n",
       "2                  78        2         29       30  US$200   \n",
       "3                  32        0         17       11  US$300   \n",
       "4                  50        1         31       10  US$200   \n",
       "\n",
       "                                             entries  \\\n",
       "0  [{'entry_id': 'entry-153', 'participant_id': '...   \n",
       "1  [{'entry_id': 'entry-73', 'participant_id': '4...   \n",
       "2  [{'entry_id': 'entry-20', 'participant_id': '3...   \n",
       "3  [{'entry_id': 'entry-39', 'participant_id': '3...   \n",
       "4  [{'entry_id': 'entry-17', 'participant_id': '5...   \n",
       "\n",
       "                                     deleted_entries        winners  \\\n",
       "0  [{'entry_id': 'entry-110', 'participant_id': '...  ['entry-113']   \n",
       "1  [{'entry_id': 'entry-110', 'participant_id': '...   ['entry-73']   \n",
       "2  [{'entry_id': 'entry-84', 'participant_id': '2...   ['entry-20']   \n",
       "3  [{'entry_id': 'entry-28', 'participant_id': '4...   ['entry-39']   \n",
       "4  [{'entry_id': 'entry-53', 'participant_id': '4...   ['entry-53']   \n",
       "\n",
       "                                  tags  \n",
       "0             Fast-tracked Logo design  \n",
       "1  Guaranteed Fast-tracked Logo design  \n",
       "2  Guaranteed Fast-tracked Logo design  \n",
       "3             Fast-tracked Logo design  \n",
       "4  Guaranteed Fast-tracked Logo design  \n",
       "\n",
       "[5 rows x 25 columns]"
      ]
     },
     "execution_count": 40,
     "metadata": {},
     "output_type": "execute_result"
    }
   ],
   "source": [
    "data.head()"
   ]
  },
  {
   "cell_type": "markdown",
   "metadata": {},
   "source": [
    "## get contest tags"
   ]
  },
  {
   "cell_type": "code",
   "execution_count": 41,
   "metadata": {},
   "outputs": [],
   "source": [
    "data['guaranteed'] = data['tags'].apply(lambda x: 1 if 'Guaranteed' in x else 0)\n",
    "data['blind'] = data['tags'].apply(lambda x: 1 if 'Blind' in x else 0)\n",
    "data['not_blind'] = data['tags'].apply(lambda x: 0 if 'Blind' in x else 1)\n",
    "data['fast_tracked'] = data['tags'].apply(lambda x: 1 if 'Fast-tracked' in x else 0)\n"
   ]
  },
  {
   "cell_type": "code",
   "execution_count": 42,
   "metadata": {},
   "outputs": [],
   "source": [
    "data['gold'] = data['tags'].apply(lambda x: 1 if 'Gold' in x else 0)\n",
    "data['platinum'] = data['tags'].apply(lambda x: 1 if 'Platinum' in x else 0)"
   ]
  },
  {
   "cell_type": "code",
   "execution_count": 43,
   "metadata": {},
   "outputs": [],
   "source": [
    "# get entry level data\n",
    "# data = data[(data['gold']==1) | (data['platinum']==1)]\n",
    "# data.shape"
   ]
  },
  {
   "cell_type": "code",
   "execution_count": 44,
   "metadata": {},
   "outputs": [],
   "source": [
    "# data[['guaranteed', 'blind', 'not_blind', 'fast_tracked', 'gold', 'platinum']].describe()"
   ]
  },
  {
   "cell_type": "markdown",
   "metadata": {},
   "source": [
    "## seeker: those who have host more than 1 contest"
   ]
  },
  {
   "cell_type": "code",
   "execution_count": 45,
   "metadata": {},
   "outputs": [],
   "source": [
    "# data['seeker'].value_counts()[:20]"
   ]
  },
  {
   "cell_type": "code",
   "execution_count": null,
   "metadata": {},
   "outputs": [],
   "source": []
  },
  {
   "cell_type": "markdown",
   "metadata": {},
   "source": [
    "## contest type"
   ]
  },
  {
   "cell_type": "code",
   "execution_count": 46,
   "metadata": {},
   "outputs": [],
   "source": [
    "data['contest_type'] = data['url'].apply(lambda x: x.split('/')[3].replace('-', '_'))"
   ]
  },
  {
   "cell_type": "code",
   "execution_count": 47,
   "metadata": {},
   "outputs": [
    {
     "data": {
      "text/plain": [
       "logo_design    1925\n",
       "Name: contest_type, dtype: int64"
      ]
     },
     "execution_count": 47,
     "metadata": {},
     "output_type": "execute_result"
    }
   ],
   "source": [
    "data['contest_type'].value_counts()"
   ]
  },
  {
   "cell_type": "code",
   "execution_count": 48,
   "metadata": {},
   "outputs": [
    {
     "data": {
      "text/plain": [
       "(1925, 32)"
      ]
     },
     "execution_count": 48,
     "metadata": {},
     "output_type": "execute_result"
    }
   ],
   "source": [
    "data = data[data['contest_type']=='logo_design']\n",
    "data.shape"
   ]
  },
  {
   "cell_type": "code",
   "execution_count": 49,
   "metadata": {},
   "outputs": [],
   "source": [
    "data = data.drop('contest_type', axis=1)"
   ]
  },
  {
   "cell_type": "markdown",
   "metadata": {},
   "source": [
    "## prize"
   ]
  },
  {
   "cell_type": "code",
   "execution_count": 50,
   "metadata": {},
   "outputs": [],
   "source": [
    "data['prize'] = data['prize'].apply(lambda x: int(x.replace(',', '').replace('US$', '')))"
   ]
  },
  {
   "cell_type": "code",
   "execution_count": 51,
   "metadata": {},
   "outputs": [
    {
     "data": {
      "text/plain": [
       "count    1925.000000\n",
       "mean      249.194286\n",
       "std        76.232770\n",
       "min       200.000000\n",
       "25%       200.000000\n",
       "50%       200.000000\n",
       "75%       300.000000\n",
       "max      1042.000000\n",
       "Name: prize, dtype: float64"
      ]
     },
     "execution_count": 51,
     "metadata": {},
     "output_type": "execute_result"
    }
   ],
   "source": [
    "data['prize'].describe()"
   ]
  },
  {
   "cell_type": "code",
   "execution_count": 52,
   "metadata": {},
   "outputs": [
    {
     "data": {
      "text/plain": [
       "<AxesSubplot:>"
      ]
     },
     "execution_count": 52,
     "metadata": {},
     "output_type": "execute_result"
    },
    {
     "data": {
      "image/png": "[encoded data removed]",
      "text/plain": [
       "<Figure size 432x288 with 1 Axes>"
      ]
     },
     "metadata": {
      "needs_background": "light"
     },
     "output_type": "display_data"
    }
   ],
   "source": [
    "data['prize'].plot(kind='box')"
   ]
  },
  {
   "cell_type": "code",
   "execution_count": 53,
   "metadata": {},
   "outputs": [],
   "source": [
    "import math\n",
    "data['prize_log'] = data['prize'].apply(math.log)"
   ]
  },
  {
   "cell_type": "code",
   "execution_count": 54,
   "metadata": {},
   "outputs": [
    {
     "data": {
      "text/html": [
       "<div>\n",
       "<style scoped>\n",
       "    .dataframe tbody tr th:only-of-type {\n",
       "        vertical-align: middle;\n",
       "    }\n",
       "\n",
       "    .dataframe tbody tr th {\n",
       "        vertical-align: top;\n",
       "    }\n",
       "\n",
       "    .dataframe thead th {\n",
       "        text-align: right;\n",
       "    }\n",
       "</style>\n",
       "<table border=\"1\" class=\"dataframe\">\n",
       "  <thead>\n",
       "    <tr style=\"text-align: right;\">\n",
       "      <th></th>\n",
       "      <th>prize</th>\n",
       "      <th>prize_log</th>\n",
       "    </tr>\n",
       "  </thead>\n",
       "  <tbody>\n",
       "    <tr>\n",
       "      <th>0</th>\n",
       "      <td>400</td>\n",
       "      <td>5.991465</td>\n",
       "    </tr>\n",
       "    <tr>\n",
       "      <th>1</th>\n",
       "      <td>276</td>\n",
       "      <td>5.620401</td>\n",
       "    </tr>\n",
       "    <tr>\n",
       "      <th>2</th>\n",
       "      <td>200</td>\n",
       "      <td>5.298317</td>\n",
       "    </tr>\n",
       "    <tr>\n",
       "      <th>3</th>\n",
       "      <td>300</td>\n",
       "      <td>5.703782</td>\n",
       "    </tr>\n",
       "    <tr>\n",
       "      <th>4</th>\n",
       "      <td>200</td>\n",
       "      <td>5.298317</td>\n",
       "    </tr>\n",
       "  </tbody>\n",
       "</table>\n",
       "</div>"
      ],
      "text/plain": [
       "   prize  prize_log\n",
       "0    400   5.991465\n",
       "1    276   5.620401\n",
       "2    200   5.298317\n",
       "3    300   5.703782\n",
       "4    200   5.298317"
      ]
     },
     "execution_count": 54,
     "metadata": {},
     "output_type": "execute_result"
    }
   ],
   "source": [
    "data[['prize','prize_log']][:5]"
   ]
  },
  {
   "cell_type": "markdown",
   "metadata": {},
   "source": [
    "## start time"
   ]
  },
  {
   "cell_type": "code",
   "execution_count": 55,
   "metadata": {},
   "outputs": [],
   "source": [
    "data['start_date'] = data['start_time'].apply(lambda x: pd.to_datetime(x).date())"
   ]
  },
  {
   "cell_type": "markdown",
   "metadata": {},
   "source": [
    "## number of winners"
   ]
  },
  {
   "cell_type": "code",
   "execution_count": 56,
   "metadata": {},
   "outputs": [],
   "source": [
    "data['number_of_winners'] = data['winners'].apply(lambda x: len(str(x)[1:-1].split(',')))"
   ]
  },
  {
   "cell_type": "code",
   "execution_count": 57,
   "metadata": {},
   "outputs": [
    {
     "data": {
      "text/plain": [
       "1    1893\n",
       "2      31\n",
       "3       1\n",
       "Name: number_of_winners, dtype: int64"
      ]
     },
     "execution_count": 57,
     "metadata": {},
     "output_type": "execute_result"
    }
   ],
   "source": [
    "data['number_of_winners'].value_counts()"
   ]
  },
  {
   "cell_type": "code",
   "execution_count": 58,
   "metadata": {},
   "outputs": [],
   "source": [
    "data['multi_winner'] = data['number_of_winners'].apply(lambda x: 1 if x > 1 else 0)\n"
   ]
  },
  {
   "cell_type": "code",
   "execution_count": 59,
   "metadata": {},
   "outputs": [
    {
     "data": {
      "text/plain": [
       "0    1893\n",
       "1      32\n",
       "Name: multi_winner, dtype: int64"
      ]
     },
     "execution_count": 59,
     "metadata": {},
     "output_type": "execute_result"
    }
   ],
   "source": [
    "data['multi_winner'].value_counts()"
   ]
  },
  {
   "cell_type": "markdown",
   "metadata": {},
   "source": [
    "## number of submission"
   ]
  },
  {
   "cell_type": "code",
   "execution_count": 60,
   "metadata": {},
   "outputs": [],
   "source": [
    "data['total_submission'] = data['entry_count'] + data['deleted_entry_count']"
   ]
  },
  {
   "cell_type": "markdown",
   "metadata": {},
   "source": [
    "## number of participants"
   ]
  },
  {
   "cell_type": "code",
   "execution_count": 61,
   "metadata": {},
   "outputs": [],
   "source": [
    "def get_number_of_participants(entries, deleted_entries):\n",
    "    participant_ids = []\n",
    "\n",
    "    pattern = \"'participant_id': '(\\d{5,7}')\"\n",
    "    participant_ids += re.findall(pattern, entries) \n",
    "    participant_ids += re.findall(pattern, deleted_entries) \n",
    "\n",
    "    return len(set(participant_ids))\n",
    "    "
   ]
  },
  {
   "cell_type": "code",
   "execution_count": 62,
   "metadata": {},
   "outputs": [],
   "source": [
    "data['number_of_participants'] = data.apply(lambda row: get_number_of_participants(row['entries'], row['deleted_entries']), axis=1)"
   ]
  },
  {
   "cell_type": "code",
   "execution_count": 63,
   "metadata": {},
   "outputs": [
    {
     "data": {
      "text/html": [
       "<div>\n",
       "<style scoped>\n",
       "    .dataframe tbody tr th:only-of-type {\n",
       "        vertical-align: middle;\n",
       "    }\n",
       "\n",
       "    .dataframe tbody tr th {\n",
       "        vertical-align: top;\n",
       "    }\n",
       "\n",
       "    .dataframe thead th {\n",
       "        text-align: right;\n",
       "    }\n",
       "</style>\n",
       "<table border=\"1\" class=\"dataframe\">\n",
       "  <thead>\n",
       "    <tr style=\"text-align: right;\">\n",
       "      <th></th>\n",
       "      <th>total_submission</th>\n",
       "      <th>number_of_participants</th>\n",
       "    </tr>\n",
       "  </thead>\n",
       "  <tbody>\n",
       "    <tr>\n",
       "      <th>count</th>\n",
       "      <td>1925.000000</td>\n",
       "      <td>1925.000000</td>\n",
       "    </tr>\n",
       "    <tr>\n",
       "      <th>mean</th>\n",
       "      <td>123.066494</td>\n",
       "      <td>26.210390</td>\n",
       "    </tr>\n",
       "    <tr>\n",
       "      <th>std</th>\n",
       "      <td>192.611257</td>\n",
       "      <td>38.862047</td>\n",
       "    </tr>\n",
       "    <tr>\n",
       "      <th>min</th>\n",
       "      <td>1.000000</td>\n",
       "      <td>1.000000</td>\n",
       "    </tr>\n",
       "    <tr>\n",
       "      <th>25%</th>\n",
       "      <td>51.000000</td>\n",
       "      <td>12.000000</td>\n",
       "    </tr>\n",
       "    <tr>\n",
       "      <th>50%</th>\n",
       "      <td>83.000000</td>\n",
       "      <td>18.000000</td>\n",
       "    </tr>\n",
       "    <tr>\n",
       "      <th>75%</th>\n",
       "      <td>136.000000</td>\n",
       "      <td>29.000000</td>\n",
       "    </tr>\n",
       "    <tr>\n",
       "      <th>max</th>\n",
       "      <td>4483.000000</td>\n",
       "      <td>874.000000</td>\n",
       "    </tr>\n",
       "  </tbody>\n",
       "</table>\n",
       "</div>"
      ],
      "text/plain": [
       "       total_submission  number_of_participants\n",
       "count       1925.000000             1925.000000\n",
       "mean         123.066494               26.210390\n",
       "std          192.611257               38.862047\n",
       "min            1.000000                1.000000\n",
       "25%           51.000000               12.000000\n",
       "50%           83.000000               18.000000\n",
       "75%          136.000000               29.000000\n",
       "max         4483.000000              874.000000"
      ]
     },
     "execution_count": 63,
     "metadata": {},
     "output_type": "execute_result"
    }
   ],
   "source": [
    "data[['total_submission', 'number_of_participants']].describe()"
   ]
  },
  {
   "cell_type": "markdown",
   "metadata": {},
   "source": [
    "## number of submission per participants"
   ]
  },
  {
   "cell_type": "code",
   "execution_count": 64,
   "metadata": {},
   "outputs": [],
   "source": [
    "data['number_of_submission_per_participants'] = data['total_submission'] / data['number_of_participants']"
   ]
  },
  {
   "cell_type": "code",
   "execution_count": 65,
   "metadata": {},
   "outputs": [],
   "source": [
    "# data_entry_level.shape"
   ]
  },
  {
   "cell_type": "code",
   "execution_count": 66,
   "metadata": {},
   "outputs": [],
   "source": [
    "data.to_csv('data_20220301/cleaned_' + filename, index=False)"
   ]
  }
 ],
 "metadata": {
  "interpreter": {
   "hash": "5af03e6f6884cdcbf495aa98cbd8d63d5d0ed05506dbd026ba0a4981213ae30b"
  },
  "kernelspec": {
   "display_name": "Python 3.8.8 64-bit ('base': conda)",
   "name": "python3"
  },
  "language_info": {
   "codemirror_mode": {
    "name": "ipython",
    "version": 3
   },
   "file_extension": ".py",
   "mimetype": "text/x-python",
   "name": "python",
   "nbconvert_exporter": "python",
   "pygments_lexer": "ipython3",
   "version": "3.8.8"
  },
  "orig_nbformat": 4
 },
 "nbformat": 4,
 "nbformat_minor": 2
}
