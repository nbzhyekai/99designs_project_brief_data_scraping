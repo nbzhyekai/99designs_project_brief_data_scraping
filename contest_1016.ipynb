{
 "cells": [
  {
   "cell_type": "markdown",
   "metadata": {},
   "source": [
    "# store information of a competition in one table: Competition\n",
    "\n",
    "<table>\n",
    "  <thead>\n",
    "    <tr>\n",
    "      <th>Datafield</th>\n",
    "      <th>Description</th>\n",
    "    </tr>\n",
    "  <tbody>\n",
    "    <tr>\n",
    "      <td>id</td>\n",
    "      <td>unique identifier for competition</td>\n",
    "    </tr>\n",
    "    <tr>\n",
    "      <td>url</td>\n",
    "      <td>competition webpage</td>\n",
    "    </tr>\n",
    "    <tr>\n",
    "      <td>name</td>\n",
    "      <td>competition name</td>\n",
    "    </tr>\n",
    "    <tr>\n",
    "      <td>start_time</td>\n",
    "      <td>start time of competition</td>\n",
    "    </tr>\n",
    "    <tr>\n",
    "      <td>seeker</td>\n",
    "      <td>competition host</td>\n",
    "    </tr>\n",
    "    <tr>\n",
    "      <td>prize</td>\n",
    "      <td>prize for winners</td>\n",
    "    </tr>\n",
    "    <tr>\n",
    "      <td>entries</td>\n",
    "      <td>{{entry_id: xx, user_id: xx, entry_url:xxx, time:xxx}, {entry_id: xx, user_id: xx, entry_url:xxx, time:xxx}, ...}</td>\n",
    "    </tr>\n",
    "    <tr>\n",
    "      <td>deleted entries</td>\n",
    "      <td>{{entry_id: xx, user_id: xx}, {entry_id: xx, user_id: xx}, ...}</td>\n",
    "    </tr>\n",
    "    <tr>\n",
    "      <td>winners</td>\n",
    "      <td>[entry_id, entry_id]</td>\n",
    "    </tr>\n",
    "\n",
    "  </tbody>\n",
    "</table>\n"
   ]
  },
  {
   "cell_type": "code",
   "execution_count": 1,
   "metadata": {},
   "outputs": [],
   "source": [
    "import requests\n",
    "from bs4 import BeautifulSoup\n",
    "import re\n",
    "import pandas as pd"
   ]
  },
  {
   "cell_type": "code",
   "execution_count": 2,
   "metadata": {},
   "outputs": [],
   "source": [
    "# competition_url = \"https://99designs.hk/logo-design/contests/exotic-rides-ultimate-logo-contest-48555\"\n",
    "competition_url = \"https://99designs.hk/logo-design/contests/dv-live-event-management-company-logo-graphics-48557\"\n",
    "competition_url = \"https://99designs.hk/logo-design/contests/needed-cutting-edge-contemporary-logo-real-estate-firm-48641\"\n"
   ]
  },
  {
   "cell_type": "markdown",
   "metadata": {},
   "source": [
    "## 1. get competition information"
   ]
  },
  {
   "cell_type": "code",
   "execution_count": 3,
   "metadata": {},
   "outputs": [],
   "source": [
    "kv = {'user-agent': 'Mozilla/5.0'}\n",
    "r = requests.get(competition_url, headers=kv, timeout=30)\n",
    "r.raise_for_status()\n",
    "r.status_code\n",
    "r.encoding = r.apparent_encoding"
   ]
  },
  {
   "cell_type": "code",
   "execution_count": 4,
   "metadata": {},
   "outputs": [],
   "source": [
    "soup = BeautifulSoup(r.text, 'html.parser')"
   ]
  },
  {
   "cell_type": "code",
   "execution_count": 5,
   "metadata": {},
   "outputs": [
    {
     "data": {
      "text/plain": [
       "'Needed: cutting edge, contemporary logo for real estate firm'"
      ]
     },
     "execution_count": 5,
     "metadata": {},
     "output_type": "execute_result"
    }
   ],
   "source": [
    "## title\n",
    "result = soup.find(name='h1', attrs=\"heading heading--h1 heading--no-margin\")\n",
    "if result:\n",
    "    title = result.text\n",
    "else:\n",
    "    title = None\n",
    "\n",
    "title"
   ]
  },
  {
   "cell_type": "code",
   "execution_count": 6,
   "metadata": {},
   "outputs": [],
   "source": [
    "results = soup.find(name='div', attrs='inline-page')"
   ]
  },
  {
   "cell_type": "code",
   "execution_count": 7,
   "metadata": {},
   "outputs": [
    {
     "data": {
      "text/plain": [
       "[<p class=\"heading heading--size4 heading--no-margin\">Company name</p>,\n",
       " <p class=\"heading heading--size4 heading--no-margin\">Overview</p>,\n",
       " <p class=\"heading heading--size4 heading--no-margin\">About us</p>]"
      ]
     },
     "execution_count": 7,
     "metadata": {},
     "output_type": "execute_result"
    }
   ],
   "source": [
    "headers = results.findAll(\"p\", \"heading heading--size4 heading--no-margin\")\n",
    "headers"
   ]
  },
  {
   "cell_type": "code",
   "execution_count": 8,
   "metadata": {},
   "outputs": [
    {
     "data": {
      "text/plain": [
       "[<p class=\"paragraph paragraph--no-margin\">Plan B Investments</p>,\n",
       " <p class=\"paragraph\"><span>We are a diverse team of real estate professionals whose goal is to help the average person achieve success in real estate investment. We accomplish this through a process of education, facilitation, and building relationships with developers.</span></p>,\n",
       " <p class=\"paragraph\"><span>We want to appeal to the investor who tried to \"do real estate\" the traditional way with traditional properties and traditional mortgages, but ended up losing big. Our audience is people who want to invest but want a more viable option than standard US real estate.</span></p>]"
      ]
     },
     "execution_count": 8,
     "metadata": {},
     "output_type": "execute_result"
    }
   ],
   "source": [
    "descriptions = results.findAll(\"p\", \"paragraph\")\n",
    "descriptions"
   ]
  },
  {
   "cell_type": "code",
   "execution_count": 9,
   "metadata": {},
   "outputs": [],
   "source": [
    "overview = \"\"\n",
    "company_name = \"\"\n",
    "description_of_organization_and_audience = \"\""
   ]
  },
  {
   "cell_type": "code",
   "execution_count": 10,
   "metadata": {},
   "outputs": [],
   "source": [
    "for header, description in zip(headers, descriptions):\n",
    "    if header.text == \"Overview\":\n",
    "        overview = description.text\n",
    "    elif header.text == \"Company name\":\n",
    "        company_name = description.text\n",
    "    elif header.text == \"About us\":\n",
    "        description_of_organization_and_audience = description.text\n"
   ]
  },
  {
   "cell_type": "code",
   "execution_count": 11,
   "metadata": {},
   "outputs": [
    {
     "name": "stdout",
     "output_type": "stream",
     "text": [
      "**********company name**********\n",
      "Plan B Investments\n",
      "**********overview*************\n",
      "We are a diverse team of real estate professionals whose goal is to help the average person achieve success in real estate investment. We accomplish this through a process of education, facilitation, and building relationships with developers.\n",
      "**********description of the organization and its target audience**********\n",
      "We want to appeal to the investor who tried to \"do real estate\" the traditional way with traditional properties and traditional mortgages, but ended up losing big. Our audience is people who want to invest but want a more viable option than standard US real estate.\n"
     ]
    }
   ],
   "source": [
    "print(\"**********company name**********\")\n",
    "print(company_name)\n",
    "print(\"**********overview*************\")\n",
    "print(overview)\n",
    "print(\"**********description of the organization and its target audience**********\")\n",
    "print(description_of_organization_and_audience)\n"
   ]
  },
  {
   "cell_type": "code",
   "execution_count": 12,
   "metadata": {},
   "outputs": [],
   "source": [
    "requirements = soup.findAll(name='div', attrs='inline-page')[1].span.text"
   ]
  },
  {
   "cell_type": "code",
   "execution_count": 13,
   "metadata": {},
   "outputs": [],
   "source": [
    "kv = {'user-agent': 'Mozilla/5.0'}\n",
    "url = competition_url + \"/entries\"\n",
    "\n",
    "r = requests.get(url, headers=kv, timeout=30)\n",
    "r.raise_for_status()\n",
    "r.status_code\n",
    "r.encoding = r.apparent_encoding"
   ]
  },
  {
   "cell_type": "code",
   "execution_count": 14,
   "metadata": {},
   "outputs": [],
   "source": [
    "soup = BeautifulSoup(r.text, 'html.parser')"
   ]
  },
  {
   "cell_type": "code",
   "execution_count": 15,
   "metadata": {},
   "outputs": [
    {
     "name": "stdout",
     "output_type": "stream",
     "text": [
      "Mon, 12 Jul 2010 20:51:26 +0000\n"
     ]
    }
   ],
   "source": [
    "## competition start date\n",
    "text = str(soup.find(name='div', attrs=\"contest-header__price\"))\n",
    "start_time = re.search('\"startDate\": .+,', text).group(0).replace('\"startDate\": \"', '')[:-2]\n",
    "print(start_time)"
   ]
  },
  {
   "cell_type": "markdown",
   "metadata": {},
   "source": [
    "## 2. get participants and entry info"
   ]
  },
  {
   "cell_type": "markdown",
   "metadata": {},
   "source": [
    "### winner id and entry id"
   ]
  },
  {
   "cell_type": "code",
   "execution_count": 16,
   "metadata": {},
   "outputs": [],
   "source": [
    "def make_soup(competition_url, page_number, active=True):\n",
    "\n",
    "    kv = {'user-agent': 'Mozilla/5.0'}\n",
    "    if active:\n",
    "        url = competition_url + \"/entries?filter=active&page=\" + str(page_number)\n",
    "    else: \n",
    "        url = competition_url + \"/entries?filter=non_active&page=\" + str(page_number)\n",
    "    print(url)\n",
    "\n",
    "    r = requests.get(url, headers=kv, timeout=30)\n",
    "    r.raise_for_status()\n",
    "    r.status_code\n",
    "    r.encoding = r.apparent_encoding\n",
    "    soup = BeautifulSoup(r.text, 'html.parser')\n",
    "    return soup"
   ]
  },
  {
   "cell_type": "code",
   "execution_count": 17,
   "metadata": {},
   "outputs": [],
   "source": [
    "def get_winner_info(soup):\n",
    "\n",
    "    results = soup.findAll(name='div', attrs='entry-matrix__item matrix__item entry-winners')\n",
    "        \n",
    "    winner_entry_ids = []\n",
    "    for result in results:\n",
    "        winner_entry = result.find(name='div', attrs=\"entry entry--linked entry--zoom-linked\")\n",
    "        if winner_entry:\n",
    "            winner_entry_ids.append(winner_entry[\"id\"])\n",
    "            continue\n",
    "        winner_entry = result.find(name='div', attrs=\"entry\") # case if winner entry is deleted\n",
    "        if winner_entry:\n",
    "            winner_entry_ids.append(winner_entry[\"id\"])\n",
    "            continue\n",
    "    return winner_entry_ids\n"
   ]
  },
  {
   "cell_type": "code",
   "execution_count": 18,
   "metadata": {},
   "outputs": [
    {
     "name": "stdout",
     "output_type": "stream",
     "text": [
      "https://99designs.hk/logo-design/contests/needed-cutting-edge-contemporary-logo-real-estate-firm-48641/entries?filter=active&page=1\n"
     ]
    },
    {
     "data": {
      "text/plain": [
       "['entry-34']"
      ]
     },
     "execution_count": 18,
     "metadata": {},
     "output_type": "execute_result"
    }
   ],
   "source": [
    "page_number = 1\n",
    "soup = make_soup(competition_url, page_number)\n",
    "winner_entry_ids = get_winner_info(soup) \n",
    "winner_entry_ids"
   ]
  },
  {
   "cell_type": "code",
   "execution_count": 19,
   "metadata": {},
   "outputs": [
    {
     "data": {
      "text/plain": [
       "'Cyara Pott'"
      ]
     },
     "execution_count": 19,
     "metadata": {},
     "output_type": "execute_result"
    }
   ],
   "source": [
    "seeker = soup.find(name='span', attrs=\"display-name\").text\n",
    "seeker"
   ]
  },
  {
   "cell_type": "code",
   "execution_count": 20,
   "metadata": {},
   "outputs": [
    {
     "data": {
      "text/plain": [
       "'            All (44)                    Unrated (42)                    1–2 stars (1)                    3–5 stars (1)                    Declined and withdrawn (27)        '"
      ]
     },
     "execution_count": 20,
     "metadata": {},
     "output_type": "execute_result"
    }
   ],
   "source": [
    "entry_summary = soup.find(name='select', attrs=\"styled-select__select\")\n",
    "entry_summary = entry_summary.text.replace('\\n', \"\")\n",
    "entry_summary"
   ]
  },
  {
   "cell_type": "code",
   "execution_count": 21,
   "metadata": {},
   "outputs": [
    {
     "name": "stdout",
     "output_type": "stream",
     "text": [
      "44 27\n"
     ]
    }
   ],
   "source": [
    "entry_count = int(re.search('All \\(\\d+\\)', entry_summary).group(0)[5: -1])\n",
    "deleted_entry_count = re.search('Declined and withdrawn \\(\\d+\\)', entry_summary).group(0)[24:-1]\n",
    "print(entry_count, deleted_entry_count)"
   ]
  },
  {
   "cell_type": "code",
   "execution_count": 22,
   "metadata": {},
   "outputs": [],
   "source": [
    "def get_participant_and_entry_info(soup):\n",
    "\n",
    "    entry_matrix = soup.findAll(name='div', attrs='entry-matrix__item matrix__item')\n",
    "    for entry in entry_matrix:\n",
    "        result = entry.find(name='div', attrs='entry entry--linked entry--zoom-linked')\n",
    "        try:\n",
    "            participants_user_ids.append(result[\"data-user-id\"])\n",
    "            participants_entry_ids.append(result[\"id\"])\n",
    "            participants_entry_image_urls.append(result.find(name='a')[\"href\"])\n",
    "        except:\n",
    "            pass"
   ]
  },
  {
   "cell_type": "code",
   "execution_count": 23,
   "metadata": {},
   "outputs": [],
   "source": [
    "def get_time(soup):\n",
    "    ## get time\n",
    "    # text = str(soup.find(name='div', attrs='entry-pane__results').contents)\n",
    "    text = str(soup.find(name='div', attrs='entry-pane__results'))\n",
    "    time = re.findall('\"timeCreatedString\":\".{20,30}\"', text)\n",
    "    if time:\n",
    "        time = list(map(lambda x: x.replace('&quot;', '').replace('timeCreatedString:', \"\"), time))\n",
    "        return time\n",
    "    # print(text)\n",
    "    time = re.findall('timeCreatedString&quot;:&quot;.{20,30}&quot;', text)\n",
    "    if time:\n",
    "        time = list(map(lambda x: x.replace('&quot;', '').replace('timeCreatedString:', \"\"), time))\n",
    "        return time\n",
    "    else:\n",
    "        return []\n",
    "    "
   ]
  },
  {
   "cell_type": "code",
   "execution_count": 24,
   "metadata": {},
   "outputs": [],
   "source": [
    "def get_prize(soup):\n",
    "    ## get prize\n",
    "    text = str(soup.find(name='div', attrs='contest-header contest-header--with-breadcrumbs').contents)\n",
    "    prize = re.search('\"prizeMoney\": \".{2,10}\"', text).group(0)\n",
    "    prize = prize.replace('\"prizeMoney\": \"', \"\").replace('\"', \"\")\n",
    "    return prize\n"
   ]
  },
  {
   "cell_type": "code",
   "execution_count": null,
   "metadata": {},
   "outputs": [],
   "source": []
  },
  {
   "cell_type": "code",
   "execution_count": 25,
   "metadata": {},
   "outputs": [
    {
     "name": "stdout",
     "output_type": "stream",
     "text": [
      "1\n",
      "https://99designs.hk/logo-design/contests/needed-cutting-edge-contemporary-logo-real-estate-firm-48641/entries?filter=active&page=1\n",
      "2\n",
      "https://99designs.hk/logo-design/contests/needed-cutting-edge-contemporary-logo-real-estate-firm-48641/entries?filter=active&page=2\n"
     ]
    }
   ],
   "source": [
    "participants_user_ids = []\n",
    "participants_entry_ids = []\n",
    "participants_entry_image_urls = []\n",
    "participants_submission_time = []\n",
    "page_number = 1\n",
    "\n",
    "\n",
    "\n",
    "while True:\n",
    "    print(page_number)\n",
    "    if page_number == 1:\n",
    "        soup = make_soup(competition_url, page_number)\n",
    "        prize = get_prize(soup)\n",
    "        winner_entry_ids = get_winner_info(soup)\n",
    "        get_participant_and_entry_info(soup)\n",
    "        time = get_time(soup)\n",
    "        # print(participants_user_ids)\n",
    "        participants_submission_time += time\n",
    "        if len(time) < 36:\n",
    "            break\n",
    "    else:\n",
    "        soup = make_soup(competition_url, page_number)\n",
    "        get_participant_and_entry_info(soup)\n",
    "        time = get_time(soup)\n",
    "        participants_submission_time += time\n",
    "        if len(time) < 36:\n",
    "            break\n",
    "\n",
    "    # print(participants_user_ids)\n",
    "    # print(participants_entry_ids)\n",
    "    # print(participants_entry_image_urls)\n",
    "\n",
    "    page_number += 1"
   ]
  },
  {
   "cell_type": "code",
   "execution_count": 26,
   "metadata": {},
   "outputs": [
    {
     "data": {
      "text/plain": [
       "['2010-07-16T20:06:16+00:00',\n",
       " '2010-07-13T18:25:16+00:00',\n",
       " '2010-07-19T20:53:01+00:00',\n",
       " '2010-07-19T20:51:59+00:00',\n",
       " '2010-07-19T20:46:35+00:00']"
      ]
     },
     "execution_count": 26,
     "metadata": {},
     "output_type": "execute_result"
    }
   ],
   "source": [
    "participants_submission_time[:5]"
   ]
  },
  {
   "cell_type": "code",
   "execution_count": 27,
   "metadata": {},
   "outputs": [],
   "source": [
    "entries = []\n",
    "for entry_id, participant_id, time, url in zip(participants_entry_ids, \n",
    "                                                participants_user_ids, \n",
    "                                               participants_submission_time, \n",
    "                                               participants_entry_image_urls):\n",
    "    entries.append({'entry_id': entry_id, 'participant_id': participant_id, 'time': time, 'url':url})\n"
   ]
  },
  {
   "cell_type": "code",
   "execution_count": 28,
   "metadata": {},
   "outputs": [
    {
     "data": {
      "text/plain": [
       "[{'entry_id': 'entry-34',\n",
       "  'participant_id': '407367',\n",
       "  'time': '2010-07-16T20:06:16+00:00',\n",
       "  'url': '/logo-design/contests/needed-cutting-edge-contemporary-logo-real-estate-firm-48641/entries/34'},\n",
       " {'entry_id': 'entry-2',\n",
       "  'participant_id': '426835',\n",
       "  'time': '2010-07-13T18:25:16+00:00',\n",
       "  'url': '/logo-design/contests/needed-cutting-edge-contemporary-logo-real-estate-firm-48641/entries/2'},\n",
       " {'entry_id': 'entry-71',\n",
       "  'participant_id': '432199',\n",
       "  'time': '2010-07-19T20:53:01+00:00',\n",
       "  'url': '/logo-design/contests/needed-cutting-edge-contemporary-logo-real-estate-firm-48641/entries/71'},\n",
       " {'entry_id': 'entry-70',\n",
       "  'participant_id': '315319',\n",
       "  'time': '2010-07-19T20:51:59+00:00',\n",
       "  'url': '/logo-design/contests/needed-cutting-edge-contemporary-logo-real-estate-firm-48641/entries/70'},\n",
       " {'entry_id': 'entry-69',\n",
       "  'participant_id': '370615',\n",
       "  'time': '2010-07-19T20:46:35+00:00',\n",
       "  'url': '/logo-design/contests/needed-cutting-edge-contemporary-logo-real-estate-firm-48641/entries/69'}]"
      ]
     },
     "execution_count": 28,
     "metadata": {},
     "output_type": "execute_result"
    }
   ],
   "source": [
    "entries[:5]"
   ]
  },
  {
   "cell_type": "code",
   "execution_count": 29,
   "metadata": {},
   "outputs": [
    {
     "data": {
      "text/plain": [
       "[{'entry_id': 'entry-20',\n",
       "  'participant_id': '278455',\n",
       "  'time': '2010-07-15T20:33:31+00:00',\n",
       "  'url': '/logo-design/contests/needed-cutting-edge-contemporary-logo-real-estate-firm-48641/entries/20'},\n",
       " {'entry_id': 'entry-19',\n",
       "  'participant_id': '315498',\n",
       "  'time': '2010-07-15T16:42:05+00:00',\n",
       "  'url': '/logo-design/contests/needed-cutting-edge-contemporary-logo-real-estate-firm-48641/entries/19'},\n",
       " {'entry_id': 'entry-18',\n",
       "  'participant_id': '315498',\n",
       "  'time': '2010-07-15T16:40:39+00:00',\n",
       "  'url': '/logo-design/contests/needed-cutting-edge-contemporary-logo-real-estate-firm-48641/entries/18'},\n",
       " {'entry_id': 'entry-17',\n",
       "  'participant_id': '407367',\n",
       "  'time': '2010-07-15T14:36:56+00:00',\n",
       "  'url': '/logo-design/contests/needed-cutting-edge-contemporary-logo-real-estate-firm-48641/entries/17'},\n",
       " {'entry_id': 'entry-16',\n",
       "  'participant_id': '407367',\n",
       "  'time': '2010-07-15T14:36:21+00:00',\n",
       "  'url': '/logo-design/contests/needed-cutting-edge-contemporary-logo-real-estate-firm-48641/entries/16'}]"
      ]
     },
     "execution_count": 29,
     "metadata": {},
     "output_type": "execute_result"
    }
   ],
   "source": [
    "entries[-5:]"
   ]
  },
  {
   "cell_type": "code",
   "execution_count": null,
   "metadata": {},
   "outputs": [],
   "source": []
  },
  {
   "cell_type": "markdown",
   "metadata": {},
   "source": [
    "## 3. get participants and entry info for deleted entries"
   ]
  },
  {
   "cell_type": "code",
   "execution_count": 30,
   "metadata": {},
   "outputs": [],
   "source": [
    "def get_participant_and_entry_info_deleted_page(soup):\n",
    "\n",
    "    user_ids = []\n",
    "    entry_ids = []\n",
    "    status = []\n",
    "    deleted_count = 0\n",
    "    withdrawn_count = 0\n",
    "    declined_count = 0\n",
    "\n",
    "    entry_matrix = soup.findAll(name='div', attrs='entry-matrix__item matrix__item')\n",
    "    \n",
    "    for entry in entry_matrix:\n",
    "        result = entry.find(name='div', attrs='entry')\n",
    "    # print(result)\n",
    "        try:\n",
    "            user_ids.append(result[\"data-user-id\"])\n",
    "            entry_ids.append(result[\"id\"])\n",
    "            s = ''\n",
    "            for tag in entry.findAll('div', \"entry-status-overlay\"):\n",
    "                attributes = tag.attrs\n",
    "                if attributes['data-entry-status'] == 'deleted' and 'data-hidden' not in attributes:\n",
    "                    s = 'deleted'\n",
    "                    deleted_count += 1\n",
    "                    break\n",
    "                if attributes['data-entry-status'] == 'withdrawn' and 'data-hidden' not in attributes:\n",
    "                    s = 'withdrawn'\n",
    "                    withdrawn_count += 1\n",
    "                    break\n",
    "                if attributes['data-entry-status'] == 'declined' and 'data-hidden' not in attributes:\n",
    "                    s = 'declined' \n",
    "                    declined_count += 1\n",
    "                    break\n",
    "            \n",
    "            status.append(s)\n",
    "\n",
    "        except:\n",
    "            pass\n",
    "\n",
    "    return user_ids, entry_ids, status, deleted_count, withdrawn_count, declined_count"
   ]
  },
  {
   "cell_type": "code",
   "execution_count": 31,
   "metadata": {},
   "outputs": [
    {
     "name": "stdout",
     "output_type": "stream",
     "text": [
      "1\n",
      "https://99designs.hk/logo-design/contests/needed-cutting-edge-contemporary-logo-real-estate-firm-48641/entries?filter=non_active&page=1\n"
     ]
    }
   ],
   "source": [
    "deleted_participants_user_ids = []\n",
    "deleted_participants_entry_ids = []\n",
    "status_all = []\n",
    "total_deleted_count = 0\n",
    "total_withdrawn_count = 0\n",
    "total_declined_count = 0\n",
    "\n",
    "page_number = 1\n",
    "winner_number = len(winner_entry_ids)\n",
    "\n",
    "\n",
    "while True:\n",
    "    print(page_number)\n",
    "    if page_number == 1:\n",
    "        soup = make_soup(competition_url, page_number, active=False)\n",
    "        winner_entry_ids = get_winner_info(soup)\n",
    "        user_ids, entry_ids, status, deleted_count, withdrawn_count, declined_count = get_participant_and_entry_info_deleted_page(soup)\n",
    "        deleted_participants_user_ids += user_ids\n",
    "        deleted_participants_entry_ids += entry_ids\n",
    "        status_all += status\n",
    "        total_deleted_count += deleted_count\n",
    "        total_withdrawn_count += withdrawn_count\n",
    "        total_declined_count += declined_count\n",
    "        if len(user_ids) < 36:\n",
    "            break\n",
    "    else:\n",
    "        soup = make_soup(competition_url, page_number, active=False)\n",
    "        user_ids, entry_ids, status, deleted_count, withdrawn_count, declined_count = get_participant_and_entry_info_deleted_page(soup)\n",
    "        deleted_participants_user_ids += user_ids\n",
    "        deleted_participants_entry_ids += entry_ids\n",
    "        status_all += status\n",
    "        total_deleted_count += deleted_count\n",
    "        total_withdrawn_count += withdrawn_count\n",
    "        total_declined_count += declined_count\n",
    "        if len(user_ids) < 36:\n",
    "            break\n",
    "\n",
    "    page_number += 1"
   ]
  },
  {
   "cell_type": "code",
   "execution_count": 32,
   "metadata": {},
   "outputs": [
    {
     "name": "stdout",
     "output_type": "stream",
     "text": [
      "['252538', '310467', '386412', '386412', '437268', '437268', '437268', '322472', '367167', '437268', '386412', '417051', '437268', '367167', '310467', '310467', '310467', '310467', '437268', '437268', '386412', '342701', '342701', '342701', '342701', '342701', '272379']\n",
      "['entry-61', 'entry-48', 'entry-1', 'entry-68', 'entry-66', 'entry-65', 'entry-64', 'entry-63', 'entry-58', 'entry-56', 'entry-55', 'entry-52', 'entry-51', 'entry-50', 'entry-49', 'entry-47', 'entry-46', 'entry-45', 'entry-42', 'entry-41', 'entry-29', 'entry-21', 'entry-12', 'entry-11', 'entry-6', 'entry-5', 'entry-4']\n"
     ]
    }
   ],
   "source": [
    "print(deleted_participants_user_ids)\n",
    "print(deleted_participants_entry_ids)"
   ]
  },
  {
   "cell_type": "code",
   "execution_count": 33,
   "metadata": {},
   "outputs": [],
   "source": [
    "deleted_entries = []\n",
    "for entry_id, participant_id, status in zip(deleted_participants_entry_ids, \n",
    "                                    deleted_participants_user_ids, status_all):\n",
    "    deleted_entries.append({'entry_id': entry_id, 'participant_id': participant_id, 'status': status})"
   ]
  },
  {
   "cell_type": "markdown",
   "metadata": {},
   "source": [
    "## output to file"
   ]
  },
  {
   "cell_type": "code",
   "execution_count": 34,
   "metadata": {},
   "outputs": [],
   "source": [
    "df_competition_description = pd.DataFrame({'title': [title], 'url': competition_url, 'seeker': seeker, 'overview': [overview], \n",
    "                                            'company_name': [company_name], \n",
    "                                            'description_of_organization_and_audience': [description_of_organization_and_audience],  \n",
    "                                            'requirements': requirements, 'start_time': start_time, \n",
    "                                            'entry_count': entry_count, 'deleted_entry_count': deleted_entry_count,\n",
    "                                            'deleted': total_deleted_count, 'withdrawn': total_withdrawn_count, \n",
    "                                            'declined': total_declined_count, \n",
    "                                            'prize': prize, 'entries': [entries],\n",
    "                                            'deleted_entries': [deleted_entries], 'winners': [winner_entry_ids]})"
   ]
  },
  {
   "cell_type": "code",
   "execution_count": 35,
   "metadata": {},
   "outputs": [],
   "source": [
    "competition_name = competition_url.split(\"/\")[-1]\n",
    "df_competition_description.to_csv('data_20220301/'+competition_name+'.csv', index=False)"
   ]
  },
  {
   "cell_type": "code",
   "execution_count": null,
   "metadata": {},
   "outputs": [],
   "source": []
  }
 ],
 "metadata": {
  "interpreter": {
   "hash": "5af03e6f6884cdcbf495aa98cbd8d63d5d0ed05506dbd026ba0a4981213ae30b"
  },
  "kernelspec": {
   "display_name": "Python 3",
   "language": "python",
   "name": "python3"
  },
  "language_info": {
   "codemirror_mode": {
    "name": "ipython",
    "version": 3
   },
   "file_extension": ".py",
   "mimetype": "text/x-python",
   "name": "python",
   "nbconvert_exporter": "python",
   "pygments_lexer": "ipython3",
   "version": "3.8.8"
  }
 },
 "nbformat": 4,
 "nbformat_minor": 2
}
