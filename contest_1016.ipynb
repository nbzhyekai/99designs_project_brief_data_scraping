{
 "cells": [
  {
   "cell_type": "markdown",
   "metadata": {},
   "source": [
    "# store information of a competition in one table: Competition\n",
    "\n",
    "<table>\n",
    "  <thead>\n",
    "    <tr>\n",
    "      <th>Datafield</th>\n",
    "      <th>Description</th>\n",
    "    </tr>\n",
    "  <tbody>\n",
    "    <tr>\n",
    "      <td>id</td>\n",
    "      <td>unique identifier for competition</td>\n",
    "    </tr>\n",
    "    <tr>\n",
    "      <td>url</td>\n",
    "      <td>competition webpage</td>\n",
    "    </tr>\n",
    "    <tr>\n",
    "      <td>name</td>\n",
    "      <td>competition name</td>\n",
    "    </tr>\n",
    "    <tr>\n",
    "      <td>start_time</td>\n",
    "      <td>start time of competition</td>\n",
    "    </tr>\n",
    "    <tr>\n",
    "      <td>seeker</td>\n",
    "      <td>competition host</td>\n",
    "    </tr>\n",
    "    <tr>\n",
    "      <td>prize</td>\n",
    "      <td>prize for winners</td>\n",
    "    </tr>\n",
    "    <tr>\n",
    "      <td>entries</td>\n",
    "      <td>{{entry_id: xx, user_id: xx, entry_url:xxx, time:xxx}, {entry_id: xx, user_id: xx, entry_url:xxx, time:xxx}, ...}</td>\n",
    "    </tr>\n",
    "    <tr>\n",
    "      <td>deleted entries</td>\n",
    "      <td>{{entry_id: xx, user_id: xx}, {entry_id: xx, user_id: xx}, ...}</td>\n",
    "    </tr>\n",
    "    <tr>\n",
    "      <td>winners</td>\n",
    "      <td>[entry_id, entry_id]</td>\n",
    "    </tr>\n",
    "\n",
    "  </tbody>\n",
    "</table>\n"
   ]
  },
  {
   "cell_type": "code",
   "execution_count": 1,
   "metadata": {},
   "outputs": [],
   "source": [
    "import requests\n",
    "from bs4 import BeautifulSoup\n",
    "import re\n",
    "import pandas as pd"
   ]
  },
  {
   "cell_type": "code",
   "execution_count": 2,
   "metadata": {},
   "outputs": [],
   "source": [
    "competition_url = \"https://99designs.hk/logo-design/contests/exotic-rides-ultimate-logo-contest-48555\"\n"
   ]
  },
  {
   "cell_type": "markdown",
   "metadata": {},
   "source": [
    "## 1. get competition information"
   ]
  },
  {
   "cell_type": "code",
   "execution_count": 3,
   "metadata": {},
   "outputs": [],
   "source": [
    "kv = {'user-agent': 'Mozilla/5.0'}\n",
    "r = requests.get(competition_url, headers=kv, timeout=30)\n",
    "r.raise_for_status()\n",
    "r.status_code\n",
    "r.encoding = r.apparent_encoding"
   ]
  },
  {
   "cell_type": "code",
   "execution_count": 4,
   "metadata": {},
   "outputs": [],
   "source": [
    "soup = BeautifulSoup(r.text, 'html.parser')"
   ]
  },
  {
   "cell_type": "code",
   "execution_count": 5,
   "metadata": {},
   "outputs": [
    {
     "data": {
      "text/plain": [
       "'Exotic Rides Ultimate Logo Contest'"
      ]
     },
     "execution_count": 5,
     "metadata": {},
     "output_type": "execute_result"
    }
   ],
   "source": [
    "## title\n",
    "result = soup.find(name='h1', attrs=\"heading heading--h1 heading--no-margin\")\n",
    "if result:\n",
    "    title = result.text\n",
    "else:\n",
    "    title = None\n",
    "\n",
    "title"
   ]
  },
  {
   "cell_type": "code",
   "execution_count": 6,
   "metadata": {},
   "outputs": [],
   "source": [
    "results = soup.find(name='div', attrs='inline-page')"
   ]
  },
  {
   "cell_type": "code",
   "execution_count": 7,
   "metadata": {},
   "outputs": [
    {
     "data": {
      "text/plain": [
       "[<p class=\"heading heading--size4 heading--no-margin\">Company name</p>,\n",
       " <p class=\"heading heading--size4 heading--no-margin\">Overview</p>,\n",
       " <p class=\"heading heading--size4 heading--no-margin\">About us</p>]"
      ]
     },
     "execution_count": 7,
     "metadata": {},
     "output_type": "execute_result"
    }
   ],
   "source": [
    "headers = results.findAll(\"p\", \"heading heading--size4 heading--no-margin\")\n",
    "headers"
   ]
  },
  {
   "cell_type": "code",
   "execution_count": 8,
   "metadata": {},
   "outputs": [
    {
     "data": {
      "text/plain": [
       "[<p class=\"paragraph paragraph--no-margin\">Exotic Rides</p>,\n",
       " <p class=\"paragraph\"><span>We are based in Bali, Indonesia. We offer clients the opportunity to hire and experience amazing vehicles: Hummer Limos, Helicopters, Luxury Boats, and Super Cars. \n",
       " More than just a vehicle hire company, we aim to give our clients a once in a lifetime luxury experience.\n",
       " We also specialize in making sure the clients receive exceptional service to ensure their experience with us is a truly memorable one.</span></p>,\n",
       " <p class=\"paragraph\"><span>We cater for several different markets; Weddings, Hotels (mostly 5 Star), Corporate Clients, Clubbers, Surfers and party goers, as well as tourists to Bali. \n",
       " Our target audience ranges from 18-80 years old, is male and female, would like to (or already do) experience a luxury/celebrity lifestyle, and have disposable income which they want to have a bit of fun with.</span></p>]"
      ]
     },
     "execution_count": 8,
     "metadata": {},
     "output_type": "execute_result"
    }
   ],
   "source": [
    "descriptions = results.findAll(\"p\", \"paragraph\")\n",
    "descriptions"
   ]
  },
  {
   "cell_type": "code",
   "execution_count": 9,
   "metadata": {},
   "outputs": [],
   "source": [
    "summary = \"\"\n",
    "company_name = \"\"\n",
    "vision = \"\""
   ]
  },
  {
   "cell_type": "code",
   "execution_count": 10,
   "metadata": {},
   "outputs": [],
   "source": [
    "for header, description in zip(headers, descriptions):\n",
    "    if header.text == \"Summary\":\n",
    "        summary = description.text\n",
    "    elif header.text == \"Company name\":\n",
    "        company_name = description.text\n",
    "    elif header.text == \"What's your vision?\":\n",
    "        vision = description.text\n"
   ]
  },
  {
   "cell_type": "code",
   "execution_count": 11,
   "metadata": {},
   "outputs": [
    {
     "name": "stdout",
     "output_type": "stream",
     "text": [
      "**********summary*************\n",
      "\n",
      "**********company name**********\n",
      "Exotic Rides\n",
      "**********vision**********\n",
      "\n"
     ]
    }
   ],
   "source": [
    "print(\"**********summary*************\")\n",
    "print(summary)\n",
    "print(\"**********company name**********\")\n",
    "print(company_name)\n",
    "print(\"**********vision**********\")\n",
    "print(vision)\n"
   ]
  },
  {
   "cell_type": "code",
   "execution_count": 12,
   "metadata": {},
   "outputs": [],
   "source": [
    "kv = {'user-agent': 'Mozilla/5.0'}\n",
    "url = competition_url + \"/entries\"\n",
    "\n",
    "r = requests.get(url, headers=kv, timeout=30)\n",
    "r.raise_for_status()\n",
    "r.status_code\n",
    "r.encoding = r.apparent_encoding"
   ]
  },
  {
   "cell_type": "code",
   "execution_count": 13,
   "metadata": {},
   "outputs": [],
   "source": [
    "soup = BeautifulSoup(r.text, 'html.parser')"
   ]
  },
  {
   "cell_type": "code",
   "execution_count": 14,
   "metadata": {},
   "outputs": [
    {
     "name": "stdout",
     "output_type": "stream",
     "text": [
      "Sun, 11 Jul 2010 10:37:24 +0000\n"
     ]
    }
   ],
   "source": [
    "## competition start date\n",
    "text = str(soup.find(name='div', attrs=\"contest-header__price\"))\n",
    "start_time = re.search('\"startDate\": .+,', text).group(0).replace('\"startDate\": \"', '')[:-2]\n",
    "print(start_time)"
   ]
  },
  {
   "cell_type": "markdown",
   "metadata": {},
   "source": [
    "## 2. get participants and entry info"
   ]
  },
  {
   "cell_type": "markdown",
   "metadata": {},
   "source": [
    "### winner id and entry id"
   ]
  },
  {
   "cell_type": "code",
   "execution_count": 15,
   "metadata": {},
   "outputs": [],
   "source": [
    "def make_soup(competition_url, page_number, active=True):\n",
    "\n",
    "    kv = {'user-agent': 'Mozilla/5.0'}\n",
    "    if active:\n",
    "        url = competition_url + \"/entries?filter=active&page=\" + str(page_number)\n",
    "    else: \n",
    "        url = competition_url + \"/entries?filter=non_active&page=\" + str(page_number)\n",
    "    print(url)\n",
    "\n",
    "    r = requests.get(url, headers=kv, timeout=30)\n",
    "    r.raise_for_status()\n",
    "    r.status_code\n",
    "    r.encoding = r.apparent_encoding\n",
    "    soup = BeautifulSoup(r.text, 'html.parser')\n",
    "    return soup"
   ]
  },
  {
   "cell_type": "code",
   "execution_count": 16,
   "metadata": {},
   "outputs": [],
   "source": [
    "def get_winner_info(soup):\n",
    "\n",
    "    results = soup.findAll(name='div', attrs='entry-matrix__item matrix__item entry-winners')\n",
    "        \n",
    "    winner_entry_ids = []\n",
    "    for result in results:\n",
    "        winner_entry = result.find(name='div', attrs=\"entry entry--linked entry--zoom-linked\")\n",
    "        if winner_entry:\n",
    "            winner_entry_ids.append(winner_entry[\"id\"])\n",
    "            continue\n",
    "        winner_entry = result.find(name='div', attrs=\"entry\") # case if winner entry is deleted\n",
    "        if winner_entry:\n",
    "            winner_entry_ids.append(winner_entry[\"id\"])\n",
    "            continue\n",
    "    return winner_entry_ids\n"
   ]
  },
  {
   "cell_type": "code",
   "execution_count": 17,
   "metadata": {},
   "outputs": [
    {
     "name": "stdout",
     "output_type": "stream",
     "text": [
      "https://99designs.hk/logo-design/contests/exotic-rides-ultimate-logo-contest-48555/entries?filter=active&page=1\n"
     ]
    },
    {
     "data": {
      "text/plain": [
       "[]"
      ]
     },
     "execution_count": 17,
     "metadata": {},
     "output_type": "execute_result"
    }
   ],
   "source": [
    "page_number = 1\n",
    "soup = make_soup(competition_url, page_number)\n",
    "winner_entry_ids = get_winner_info(soup) \n",
    "winner_entry_ids"
   ]
  },
  {
   "cell_type": "code",
   "execution_count": 18,
   "metadata": {},
   "outputs": [
    {
     "data": {
      "text/plain": [
       "'Exotic Rides'"
      ]
     },
     "execution_count": 18,
     "metadata": {},
     "output_type": "execute_result"
    }
   ],
   "source": [
    "seeker = soup.find(name='span', attrs=\"display-name\").text\n",
    "seeker"
   ]
  },
  {
   "cell_type": "code",
   "execution_count": 19,
   "metadata": {},
   "outputs": [
    {
     "data": {
      "text/plain": [
       "'            All (54)                    Unrated (10)                    1–2 stars (22)                    3–5 stars (22)                    Declined and withdrawn (292)        '"
      ]
     },
     "execution_count": 19,
     "metadata": {},
     "output_type": "execute_result"
    }
   ],
   "source": [
    "entry_summary = soup.find(name='select', attrs=\"styled-select__select\")\n",
    "entry_summary = entry_summary.text.replace('\\n', \"\")\n",
    "entry_summary"
   ]
  },
  {
   "cell_type": "code",
   "execution_count": 20,
   "metadata": {},
   "outputs": [
    {
     "name": "stdout",
     "output_type": "stream",
     "text": [
      "54 292\n"
     ]
    }
   ],
   "source": [
    "entry_count = int(re.search('All \\(\\d+\\)', entry_summary).group(0)[5: -1])\n",
    "deleted_entry_count = re.search('Declined and withdrawn \\(\\d+\\)', entry_summary).group(0)[24:-1]\n",
    "print(entry_count, deleted_entry_count)"
   ]
  },
  {
   "cell_type": "code",
   "execution_count": 21,
   "metadata": {},
   "outputs": [],
   "source": [
    "def get_participant_and_entry_info(soup):\n",
    "\n",
    "    entry_matrix = soup.findAll(name='div', attrs='entry-matrix__item matrix__item')\n",
    "    for entry in entry_matrix:\n",
    "        result = entry.find(name='div', attrs='entry entry--linked entry--zoom-linked')\n",
    "        try:\n",
    "            participants_user_ids.append(result[\"data-user-id\"])\n",
    "            participants_entry_ids.append(result[\"id\"])\n",
    "            participants_entry_image_urls.append(result.find(name='a')[\"href\"])\n",
    "        except:\n",
    "            pass"
   ]
  },
  {
   "cell_type": "code",
   "execution_count": 22,
   "metadata": {},
   "outputs": [],
   "source": [
    "def get_time(soup):\n",
    "    ## get time\n",
    "    # text = str(soup.find(name='div', attrs='entry-pane__results').contents)\n",
    "    text = str(soup.find(name='div', attrs='entry-pane__results'))\n",
    "    time = re.findall('\"timeCreatedString\":\".{20,30}\"', text)\n",
    "    time = list(map(lambda x: x.replace('\"timeCreatedString\":\"', '').replace('\",\"', \"\"), time))\n",
    "    return time\n",
    "\n",
    "    "
   ]
  },
  {
   "cell_type": "code",
   "execution_count": 23,
   "metadata": {},
   "outputs": [],
   "source": [
    "def get_prize(soup):\n",
    "    ## get time\n",
    "    text = str(soup.find(name='div', attrs='contest-header contest-header--with-breadcrumbs').contents)\n",
    "    prize = re.search('\"prizeMoney\": \".{2,10}\"', text).group(0)\n",
    "    prize = prize.replace('\"prizeMoney\": \"', \"\").replace('\"', \"\")\n",
    "    return prize\n"
   ]
  },
  {
   "cell_type": "code",
   "execution_count": null,
   "metadata": {},
   "outputs": [],
   "source": []
  },
  {
   "cell_type": "code",
   "execution_count": 24,
   "metadata": {},
   "outputs": [
    {
     "name": "stdout",
     "output_type": "stream",
     "text": [
      "1\n",
      "https://99designs.hk/logo-design/contests/exotic-rides-ultimate-logo-contest-48555/entries?filter=active&page=1\n",
      "2\n",
      "https://99designs.hk/logo-design/contests/exotic-rides-ultimate-logo-contest-48555/entries?filter=active&page=2\n"
     ]
    }
   ],
   "source": [
    "participants_user_ids = []\n",
    "participants_entry_ids = []\n",
    "participants_entry_image_urls = []\n",
    "participants_submission_time = []\n",
    "page_number = 1\n",
    "\n",
    "\n",
    "\n",
    "while True:\n",
    "    print(page_number)\n",
    "    if page_number == 1:\n",
    "        soup = make_soup(competition_url, page_number)\n",
    "        prize = get_prize(soup)\n",
    "        winner_entry_ids = get_winner_info(soup)\n",
    "        get_participant_and_entry_info(soup)\n",
    "        time = get_time(soup)\n",
    "        participants_submission_time += time\n",
    "        if \"entry-1\" in participants_entry_ids or len(time) < 36:\n",
    "            break\n",
    "    else:\n",
    "        soup = make_soup(competition_url, page_number)\n",
    "        get_participant_and_entry_info(soup)\n",
    "        time = get_time(soup)\n",
    "        participants_submission_time += time\n",
    "        if \"entry-1\" in participants_entry_ids or len(time) < 36:\n",
    "            break\n",
    "\n",
    "    # print(participants_user_ids)\n",
    "    # print(participants_entry_ids)\n",
    "    # print(participants_entry_image_urls)\n",
    "\n",
    "    page_number += 1"
   ]
  },
  {
   "cell_type": "code",
   "execution_count": 25,
   "metadata": {},
   "outputs": [
    {
     "data": {
      "text/plain": [
       "['2010-07-17T03:58:13+00:00',\n",
       " '2010-07-12T10:35:05+00:00',\n",
       " '2010-07-17T07:29:38+00:00',\n",
       " '2010-07-17T04:02:15+00:00',\n",
       " '2010-07-17T03:36:56+00:00']"
      ]
     },
     "execution_count": 25,
     "metadata": {},
     "output_type": "execute_result"
    }
   ],
   "source": [
    "participants_submission_time[:5]"
   ]
  },
  {
   "cell_type": "code",
   "execution_count": 26,
   "metadata": {},
   "outputs": [],
   "source": [
    "entries = []\n",
    "for entry_id, participant_id, time, url in zip(participants_entry_ids, \n",
    "                                                participants_user_ids, \n",
    "                                               participants_submission_time, \n",
    "                                               participants_entry_image_urls):\n",
    "    entries.append({'entry_id': entry_id, 'participant_id': participant_id, 'time': time, 'url':url})\n"
   ]
  },
  {
   "cell_type": "code",
   "execution_count": 27,
   "metadata": {},
   "outputs": [
    {
     "data": {
      "text/plain": [
       "[{'entry_id': 'entry-286',\n",
       "  'participant_id': '380660',\n",
       "  'time': '2010-07-17T03:58:13+00:00',\n",
       "  'url': '/logo-design/contests/exotic-rides-ultimate-logo-contest-48555/entries/286'},\n",
       " {'entry_id': 'entry-82',\n",
       "  'participant_id': '380660',\n",
       "  'time': '2010-07-12T10:35:05+00:00',\n",
       "  'url': '/logo-design/contests/exotic-rides-ultimate-logo-contest-48555/entries/82'},\n",
       " {'entry_id': 'entry-297',\n",
       "  'participant_id': '439574',\n",
       "  'time': '2010-07-17T07:29:38+00:00',\n",
       "  'url': '/logo-design/contests/exotic-rides-ultimate-logo-contest-48555/entries/297'},\n",
       " {'entry_id': 'entry-287',\n",
       "  'participant_id': '252077',\n",
       "  'time': '2010-07-17T04:02:15+00:00',\n",
       "  'url': '/logo-design/contests/exotic-rides-ultimate-logo-contest-48555/entries/287'},\n",
       " {'entry_id': 'entry-284',\n",
       "  'participant_id': '252077',\n",
       "  'time': '2010-07-17T03:36:56+00:00',\n",
       "  'url': '/logo-design/contests/exotic-rides-ultimate-logo-contest-48555/entries/284'}]"
      ]
     },
     "execution_count": 27,
     "metadata": {},
     "output_type": "execute_result"
    }
   ],
   "source": [
    "entries[:5]"
   ]
  },
  {
   "cell_type": "code",
   "execution_count": 28,
   "metadata": {},
   "outputs": [
    {
     "data": {
      "text/plain": [
       "[{'entry_id': 'entry-329',\n",
       "  'participant_id': '399217',\n",
       "  'time': '2010-07-18T07:11:02+00:00',\n",
       "  'url': '/logo-design/contests/exotic-rides-ultimate-logo-contest-48555/entries/329'},\n",
       " {'entry_id': 'entry-185',\n",
       "  'participant_id': '380660',\n",
       "  'time': '2010-07-13T19:55:29+00:00',\n",
       "  'url': '/logo-design/contests/exotic-rides-ultimate-logo-contest-48555/entries/185'},\n",
       " {'entry_id': 'entry-77',\n",
       "  'participant_id': '424912',\n",
       "  'time': '2010-07-12T08:34:01+00:00',\n",
       "  'url': '/logo-design/contests/exotic-rides-ultimate-logo-contest-48555/entries/77'},\n",
       " {'entry_id': 'entry-18',\n",
       "  'participant_id': '303477',\n",
       "  'time': '2010-07-11T16:40:55+00:00',\n",
       "  'url': '/logo-design/contests/exotic-rides-ultimate-logo-contest-48555/entries/18'},\n",
       " {'entry_id': 'entry-1',\n",
       "  'participant_id': '304907',\n",
       "  'time': '2010-07-11T11:11:28+00:00',\n",
       "  'url': '/logo-design/contests/exotic-rides-ultimate-logo-contest-48555/entries/1'}]"
      ]
     },
     "execution_count": 28,
     "metadata": {},
     "output_type": "execute_result"
    }
   ],
   "source": [
    "entries[-5:]"
   ]
  },
  {
   "cell_type": "code",
   "execution_count": null,
   "metadata": {},
   "outputs": [],
   "source": []
  },
  {
   "cell_type": "markdown",
   "metadata": {},
   "source": [
    "## 3. get participants and entry info for deleted entries"
   ]
  },
  {
   "cell_type": "code",
   "execution_count": 29,
   "metadata": {},
   "outputs": [],
   "source": [
    "def get_participant_and_entry_info_deleted_page(soup):\n",
    "\n",
    "    user_ids = []\n",
    "    entry_ids = []\n",
    "    status = []\n",
    "    deleted_count = 0\n",
    "    withdrawn_count = 0\n",
    "    declined_count = 0\n",
    "\n",
    "    entry_matrix = soup.findAll(name='div', attrs='entry-matrix__item matrix__item')\n",
    "    \n",
    "    for entry in entry_matrix:\n",
    "        result = entry.find(name='div', attrs='entry')\n",
    "    # print(result)\n",
    "        try:\n",
    "            user_ids.append(result[\"data-user-id\"])\n",
    "            entry_ids.append(result[\"id\"])\n",
    "            s = ''\n",
    "            for tag in entry.findAll('div', \"entry-status-overlay\"):\n",
    "                attributes = tag.attrs\n",
    "                if attributes['data-entry-status'] == 'deleted' and 'data-hidden' not in attributes:\n",
    "                    s = 'deleted'\n",
    "                    deleted_count += 1\n",
    "                    break\n",
    "                if attributes['data-entry-status'] == 'withdrawn' and 'data-hidden' not in attributes:\n",
    "                    s = 'withdrawn'\n",
    "                    withdrawn_count += 1\n",
    "                    break\n",
    "                if attributes['data-entry-status'] == 'declined' and 'data-hidden' not in attributes:\n",
    "                    s = 'declined' \n",
    "                    declined_count += 1\n",
    "                    break\n",
    "            \n",
    "            status.append(s)\n",
    "\n",
    "        except:\n",
    "            pass\n",
    "\n",
    "    return user_ids, entry_ids, status, deleted_count, withdrawn_count, declined_count"
   ]
  },
  {
   "cell_type": "code",
   "execution_count": 30,
   "metadata": {},
   "outputs": [
    {
     "name": "stdout",
     "output_type": "stream",
     "text": [
      "1\n",
      "https://99designs.hk/logo-design/contests/exotic-rides-ultimate-logo-contest-48555/entries?filter=non_active&page=1\n",
      "2\n",
      "https://99designs.hk/logo-design/contests/exotic-rides-ultimate-logo-contest-48555/entries?filter=non_active&page=2\n",
      "3\n",
      "https://99designs.hk/logo-design/contests/exotic-rides-ultimate-logo-contest-48555/entries?filter=non_active&page=3\n",
      "4\n",
      "https://99designs.hk/logo-design/contests/exotic-rides-ultimate-logo-contest-48555/entries?filter=non_active&page=4\n",
      "5\n",
      "https://99designs.hk/logo-design/contests/exotic-rides-ultimate-logo-contest-48555/entries?filter=non_active&page=5\n",
      "6\n",
      "https://99designs.hk/logo-design/contests/exotic-rides-ultimate-logo-contest-48555/entries?filter=non_active&page=6\n",
      "7\n",
      "https://99designs.hk/logo-design/contests/exotic-rides-ultimate-logo-contest-48555/entries?filter=non_active&page=7\n",
      "8\n",
      "https://99designs.hk/logo-design/contests/exotic-rides-ultimate-logo-contest-48555/entries?filter=non_active&page=8\n",
      "9\n",
      "https://99designs.hk/logo-design/contests/exotic-rides-ultimate-logo-contest-48555/entries?filter=non_active&page=9\n"
     ]
    }
   ],
   "source": [
    "deleted_participants_user_ids = []\n",
    "deleted_participants_entry_ids = []\n",
    "status_all = []\n",
    "total_deleted_count = 0\n",
    "total_withdrawn_count = 0\n",
    "total_declined_count = 0\n",
    "\n",
    "page_number = 1\n",
    "winner_number = len(winner_entry_ids)\n",
    "\n",
    "\n",
    "while True:\n",
    "    print(page_number)\n",
    "    if page_number == 1:\n",
    "        soup = make_soup(competition_url, page_number, active=False)\n",
    "        winner_entry_ids = get_winner_info(soup)\n",
    "        user_ids, entry_ids, status, deleted_count, withdrawn_count, declined_count = get_participant_and_entry_info_deleted_page(soup)\n",
    "        deleted_participants_user_ids += user_ids\n",
    "        deleted_participants_entry_ids += entry_ids\n",
    "        status_all += status\n",
    "        total_deleted_count += deleted_count\n",
    "        total_withdrawn_count += withdrawn_count\n",
    "        total_declined_count += declined_count\n",
    "        if \"entry-1\" in entry_ids or len(user_ids) < 36:\n",
    "            break\n",
    "    else:\n",
    "        soup = make_soup(competition_url, page_number, active=False)\n",
    "        user_ids, entry_ids, status, deleted_count, withdrawn_count, declined_count = get_participant_and_entry_info_deleted_page(soup)\n",
    "        deleted_participants_user_ids += user_ids\n",
    "        deleted_participants_entry_ids += entry_ids\n",
    "        status_all += status\n",
    "        total_deleted_count += deleted_count\n",
    "        total_withdrawn_count += withdrawn_count\n",
    "        total_declined_count += declined_count\n",
    "        if \"entry-1\" in entry_ids or len(user_ids) < 36:\n",
    "            break\n",
    "\n",
    "    page_number += 1"
   ]
  },
  {
   "cell_type": "code",
   "execution_count": 31,
   "metadata": {},
   "outputs": [
    {
     "name": "stdout",
     "output_type": "stream",
     "text": [
      "['271748', '271748', '400717', '400717', '400717', '385721', '416828', '416828', '271748', '385721', '271748', '414952', '400717', '416828', '414952', '400717', '271748', '271748', '271748', '414952', '414952', '414952', '416828', '416828', '416828', '416828', '416828', '416828', '228439', '416828', '416828', '271748', '271748', '264209', '424561', '252077', '400717', '385721', '385721', '385721', '385721', '436438', '400717', '271748', '414952', '252077', '414952', '436438', '400717', '400717', '437154', '252077', '252077', '400717', '393993', '252077', '252077', '252077', '400717', '400717', '400717', '282258', '437154', '393993', '282258', '400717', '400717', '416828', '416828', '416828', '416828', '271748', '304907', '402479', '424561', '437154', '414952', '437154', '252077', '414952', '437154', '264925', '271748', '424561', '424561', '424561', '414952', '414952', '414952', '307703', '324234', '324234', '424561', '424561', '324234', '424561', '193802', '424561', '367939', '435981', '435981', '271729', '304907', '304907', '370553', '436236', '402479', '402479', '402479', '402479', '402479', '402479', '402479', '252077', '271748', '271748', '385721', '414952', '414952', '437154', '252077', '252077', '400717', '415237', '414952', '414952', '393993', '414952', '414952', '252077', '252077', '402287', '400717', '437154', '437154', '387196', '436236', '413915', '413915', '413915', '413915', '429450', '400717', '411645', '387196', '387196', '264925', '437154', '437154', '427216', '412802', '429450', '436428', '436428', '332587', '332587', '425337', '387995', '425337', '282258', '282258', '282258', '252077', '299533', '299533', '299533', '299533', '395657', '414952', '433314', '264925', '252077', '252077', '424912', '400717', '304907', '304907', '304907', '331703', '400717', '400717', '430103', '366906', '366906', '366906', '264925', '264925', '366906', '400717', '400717', '292149', '326755', '326755', '416828', '264209', '412495', '416828', '416828', '412495', '430103', '430103', '414861', '412495', '416828', '412495', '391337', '391337', '282258', '282258', '282258', '282258', '282258', '282258', '438015', '304907', '304907', '304907', '436428', '436428', '436428', '436428', '436428', '436428', '252077', '270176', '255878', '255878', '412802', '378210', '252077', '252077', '412802', '252077', '416828', '252077', '299533', '262965', '262965', '382821', '432287', '432287', '432287', '436236', '436236', '436236', '436236', '436236', '384234', '417205', '299533', '299533', '299533', '436428', '436428', '436428', '436428', '436428', '384234', '436428', '436428', '436428', '436428', '439475', '398225', '326755', '438845', '439475', '432301', '439283', '432884', '432884', '432884', '438015', '438015', '438015', '438015', '228439', '438015', '438015', '438015', '313533', '182427', '439613', '439613', '439613', '313533', '422267', '417779', '369548', '384009', '384009', '438706']\n",
      "['entry-322', 'entry-323', 'entry-298', 'entry-295', 'entry-294', 'entry-288', 'entry-282', 'entry-281', 'entry-277', 'entry-276', 'entry-274', 'entry-268', 'entry-265', 'entry-250', 'entry-239', 'entry-214', 'entry-212', 'entry-211', 'entry-210', 'entry-203', 'entry-202', 'entry-201', 'entry-158', 'entry-156', 'entry-143', 'entry-120', 'entry-117', 'entry-109', 'entry-61', 'entry-34', 'entry-32', 'entry-12', 'entry-324', 'entry-302', 'entry-301', 'entry-299', 'entry-296', 'entry-292', 'entry-291', 'entry-290', 'entry-289', 'entry-285', 'entry-280', 'entry-275', 'entry-269', 'entry-267', 'entry-262', 'entry-261', 'entry-260', 'entry-259', 'entry-258', 'entry-252', 'entry-251', 'entry-248', 'entry-242', 'entry-237', 'entry-236', 'entry-235', 'entry-229', 'entry-213', 'entry-209', 'entry-207', 'entry-194', 'entry-192', 'entry-176', 'entry-159', 'entry-149', 'entry-137', 'entry-87', 'entry-35', 'entry-29', 'entry-7', 'entry-313', 'entry-304', 'entry-300', 'entry-256', 'entry-244', 'entry-198', 'entry-182', 'entry-166', 'entry-142', 'entry-72', 'entry-11', 'entry-346', 'entry-345', 'entry-344', 'entry-343', 'entry-342', 'entry-341', 'entry-340', 'entry-338', 'entry-337', 'entry-335', 'entry-334', 'entry-333', 'entry-328', 'entry-327', 'entry-326', 'entry-325', 'entry-319', 'entry-318', 'entry-317', 'entry-316', 'entry-315', 'entry-312', 'entry-311', 'entry-310', 'entry-309', 'entry-308', 'entry-307', 'entry-306', 'entry-305', 'entry-303', 'entry-293', 'entry-279', 'entry-278', 'entry-273', 'entry-270', 'entry-263', 'entry-257', 'entry-254', 'entry-253', 'entry-249', 'entry-247', 'entry-246', 'entry-245', 'entry-243', 'entry-241', 'entry-240', 'entry-234', 'entry-231', 'entry-230', 'entry-228', 'entry-227', 'entry-226', 'entry-225', 'entry-224', 'entry-222', 'entry-221', 'entry-220', 'entry-219', 'entry-217', 'entry-215', 'entry-205', 'entry-200', 'entry-199', 'entry-197', 'entry-196', 'entry-195', 'entry-193', 'entry-191', 'entry-190', 'entry-188', 'entry-187', 'entry-186', 'entry-184', 'entry-183', 'entry-181', 'entry-180', 'entry-179', 'entry-178', 'entry-177', 'entry-173', 'entry-172', 'entry-171', 'entry-170', 'entry-169', 'entry-168', 'entry-167', 'entry-165', 'entry-164', 'entry-163', 'entry-161', 'entry-160', 'entry-157', 'entry-155', 'entry-154', 'entry-153', 'entry-152', 'entry-150', 'entry-148', 'entry-147', 'entry-146', 'entry-145', 'entry-144', 'entry-141', 'entry-140', 'entry-139', 'entry-138', 'entry-136', 'entry-135', 'entry-134', 'entry-133', 'entry-132', 'entry-131', 'entry-130', 'entry-129', 'entry-128', 'entry-127', 'entry-126', 'entry-125', 'entry-124', 'entry-122', 'entry-121', 'entry-119', 'entry-116', 'entry-115', 'entry-114', 'entry-113', 'entry-112', 'entry-111', 'entry-110', 'entry-108', 'entry-107', 'entry-106', 'entry-105', 'entry-104', 'entry-103', 'entry-102', 'entry-101', 'entry-100', 'entry-99', 'entry-98', 'entry-97', 'entry-96', 'entry-95', 'entry-94', 'entry-93', 'entry-92', 'entry-91', 'entry-90', 'entry-89', 'entry-88', 'entry-86', 'entry-85', 'entry-81', 'entry-79', 'entry-78', 'entry-76', 'entry-75', 'entry-74', 'entry-73', 'entry-69', 'entry-68', 'entry-67', 'entry-66', 'entry-64', 'entry-63', 'entry-62', 'entry-60', 'entry-59', 'entry-58', 'entry-56', 'entry-55', 'entry-54', 'entry-53', 'entry-52', 'entry-51', 'entry-50', 'entry-49', 'entry-48', 'entry-47', 'entry-46', 'entry-44', 'entry-43', 'entry-41', 'entry-40', 'entry-38', 'entry-37', 'entry-33', 'entry-30', 'entry-28', 'entry-27', 'entry-26', 'entry-25', 'entry-24', 'entry-23', 'entry-22', 'entry-21', 'entry-20', 'entry-19', 'entry-17', 'entry-16', 'entry-15', 'entry-14', 'entry-13', 'entry-10', 'entry-6', 'entry-5', 'entry-4', 'entry-3', 'entry-2']\n"
     ]
    }
   ],
   "source": [
    "print(deleted_participants_user_ids)\n",
    "print(deleted_participants_entry_ids)"
   ]
  },
  {
   "cell_type": "code",
   "execution_count": 32,
   "metadata": {},
   "outputs": [],
   "source": [
    "deleted_entries = []\n",
    "for entry_id, participant_id, status in zip(deleted_participants_entry_ids, \n",
    "                                    deleted_participants_user_ids, status_all):\n",
    "    deleted_entries.append({'entry_id': entry_id, 'participant_id': participant_id, 'status': status})"
   ]
  },
  {
   "cell_type": "markdown",
   "metadata": {},
   "source": [
    "## output to file"
   ]
  },
  {
   "cell_type": "code",
   "execution_count": 33,
   "metadata": {},
   "outputs": [],
   "source": [
    "df_competition_description = pd.DataFrame({'title': [title], 'url': competition_url, 'seeker': seeker, 'summary': [summary], \n",
    "                                            'company_name': [company_name], \n",
    "                                            'vision': [vision],  'start_time': start_time, \n",
    "                                            'entry_count': entry_count, 'deleted_entry_count': deleted_entry_count,\n",
    "                                            'deleted': total_deleted_count, 'withdrawn': total_withdrawn_count, \n",
    "                                            'declined': total_declined_count, \n",
    "                                            'prize': prize, 'entries': [entries],\n",
    "                                            'deleted_entries': [deleted_entries], 'winners': [winner_entry_ids]})"
   ]
  },
  {
   "cell_type": "code",
   "execution_count": 34,
   "metadata": {},
   "outputs": [],
   "source": [
    "competition_name = competition_url.split(\"/\")[-1]\n",
    "df_competition_description.to_csv('data_20220301/'+competition_name+'.csv', index=False)"
   ]
  },
  {
   "cell_type": "code",
   "execution_count": null,
   "metadata": {},
   "outputs": [],
   "source": []
  }
 ],
 "metadata": {
  "interpreter": {
   "hash": "5af03e6f6884cdcbf495aa98cbd8d63d5d0ed05506dbd026ba0a4981213ae30b"
  },
  "kernelspec": {
   "display_name": "Python 3.8.8 64-bit ('base': conda)",
   "name": "python3"
  },
  "language_info": {
   "codemirror_mode": {
    "name": "ipython",
    "version": 3
   },
   "file_extension": ".py",
   "mimetype": "text/x-python",
   "name": "python",
   "nbconvert_exporter": "python",
   "pygments_lexer": "ipython3",
   "version": "3.8.8"
  }
 },
 "nbformat": 4,
 "nbformat_minor": 2
}
